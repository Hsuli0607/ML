{
  "cells": [
    {
      "cell_type": "markdown",
      "metadata": {
        "id": "view-in-github",
        "colab_type": "text"
      },
      "source": [
        "<a href=\"https://colab.research.google.com/github/Hsuli0607/ML/blob/main/Classification_I_Detecting_Poor_Answer.ipynb\" target=\"_parent\"><img src=\"https://colab.research.google.com/assets/colab-badge.svg\" alt=\"Open In Colab\"/></a>"
      ]
    },
    {
      "cell_type": "code",
      "execution_count": null,
      "metadata": {
        "id": "U9xiKNUvTips"
      },
      "outputs": [],
      "source": [
        "from google.colab import drive\n",
        "drive.mount('/content/drive')\n",
        "import os\n",
        "import re\n",
        "from collections import defaultdict\n",
        "from tqdm.notebook import tqdm\n",
        "!pip install ujson\n",
        "import ujson as json\n",
        "\n",
        "# put posts.xml in the DATA_DIR\n",
        "DATA_DIR = r'/content/drive/My Drive/stackoverflow'\n",
        "YEAR = 2017\n",
        "fn_posts_all = os.path.join(DATA_DIR,'Posts.xml')\n",
        "fn_posts = os.path.join(DATA_DIR, 'posts-%i.xml' % YEAR)\n",
        "# the above line of code can be concised to : fn_posts = os.path.join(DATA_DIR, 'posts-{YEAR}.xml')\n",
        "\n",
        "fn_filtered = os.path.join(DATA_DIR, f'filtered-{YEAR}.tsv')\n",
        "fn_filtered_meta = os.path.join(DATA_DIR, f'filtered-{YEAR}-meta.tsv')\n",
        "\n",
        "#Make dirs if they are not exist\n",
        "SAMPLE_DIR = rf'{DATA_DIR}/{YEAR}'\n",
        "if not os.path.exists(SAMPLE_DIR):\n",
        "  os.mkdir(SAMPLE_DIR)\n",
        "if not os.path.exists(os.path.join(SAMPLE_DIR,'data')):\n",
        "  os.mkdir(os.path.join(SAMPLE_DIR,'data'))\n",
        "\n",
        "fn_sample = os.path.abspath(os.path.join(SAMPLE_DIR, 'data', 'sample-meta.tsv'))\n",
        "fn_sample_meta = os.path.abspath(os.path.join(SAMPLE_DIR, 'data', 'sample-meta.json'))\n",
        "print('sample posts: %s' % fn_sample)\n",
        "print('sample meta: %s' % fn_sample_meta)\n",
        "\n",
        "CHART_DIR = os.path.join(SAMPLE_DIR,'charts')\n",
        "if not os.path.exists(CHART_DIR):\n",
        "  os.mkdir(CHART_DIR)"
      ]
    },
    {
      "cell_type": "code",
      "execution_count": null,
      "metadata": {
        "id": "ucUvQE3su8jx",
        "colab": {
          "base_uri": "https://localhost:8080/"
        },
        "outputId": "eb61e9aa-817c-4203-cb4a-be49be9420b1"
      },
      "outputs": [
        {
          "output_type": "stream",
          "name": "stdout",
          "text": [
            "Extracting all posts from 2017\n",
            "....done!\n"
          ]
        }
      ],
      "source": [
        "year_match = re.compile(r'^\\s+<row [^>]*CreationDate=\"(\\d+)-')\n",
        "size = os.path.getsize(fn_posts_all)\n",
        "\n",
        "# get_year function to get year informaton from file\n",
        "def get_year(line):\n",
        "  m = year_match.match(line)\n",
        "  if m is None:\n",
        "    return None\n",
        "  return int(m.group(1))\n",
        "\n",
        "# the function get the beginning of target year location\n",
        "def beginning_target_year_search(fa, size, target_year):\n",
        "    left, right = 0, size\n",
        "    mid = (left + right) // 2\n",
        "    delta = mid\n",
        "\n",
        "    while True:\n",
        "      fa.seek(mid)\n",
        "      fa.readline()\n",
        "      line = fa.readline()\n",
        "      year = get_year(line)\n",
        "\n",
        "\n",
        "      if delta == 0:\n",
        "        break\n",
        "\n",
        "      if year < target_year:\n",
        "        left = mid\n",
        "        delta = (right - left)//2\n",
        "        mid = (left+right)//2\n",
        "\n",
        "\n",
        "      elif year >= target_year:\n",
        "        right = mid\n",
        "        delta = (right-left)//2\n",
        "        mid = (left+right)//2\n",
        "\n",
        "\n",
        "    return mid\n",
        "\n",
        "print(f'Extracting all posts from {YEAR}')\n",
        "with open(fn_posts_all, 'r', encoding ='utf-8') as fa, open(fn_posts, 'w', encoding='utf-8') as f_year:\n",
        "  #first line is the xml hearder and posts tag\n",
        "  f_year.write ('<?xml version=\"1.0\" encoding=\"utf-8\"?><posts>\\n')\n",
        "  # Write all posts of YEAR\n",
        "  result = beginning_target_year_search(fa, size, YEAR)\n",
        "\n",
        "  fa.seek(result)\n",
        "  fa.readline()\n",
        "  while True:\n",
        "    line = fa.readline()\n",
        "    year = get_year(line)\n",
        "\n",
        "    if year == YEAR:\n",
        "      f_year.write(line)\n",
        "    elif year < YEAR:\n",
        "      continue\n",
        "    elif year is None or year > YEAR:\n",
        "      break\n",
        "  # write the closing tag\n",
        "  f_year.write('</posts>')\n",
        "print('....done!')"
      ]
    },
    {
      "cell_type": "code",
      "execution_count": null,
      "metadata": {
        "id": "ivX2KmZgOb_h"
      },
      "outputs": [],
      "source": [
        "from dateutil import parser as dateparser\n",
        "from operator import itemgetter\n",
        "from lxml import etree\n",
        "\n",
        "NUM_ROWS = 5113519 #counted by hand\n",
        "\n",
        "filtered_meta = {\n",
        "    'question': {}, # question-> [(answer ID, Score), ...]\n",
        "    'total':0 # questions and answers finally written\n",
        "    }\n",
        "\n",
        "# Regular expressions to find code snippets, links, and tags, which might help in\n",
        "# designing useful features\n",
        "\n",
        "code_match = re.compile('<pre>(.*?)</pre>', re.MULTILINE| re.DOTALL)\n",
        "link_match = re.compile('<a href=\"https//.*?\".*?>(.*?)</a>',re.MULTILINE|re.DOTALL)\n",
        "tag_match = re.compile('<[^>]*>', re.MULTILINE| re.DOTALL)\n",
        "whitespace_match = re.compile(r'\\s+', re.MULTILINE| re.DOTALL)\n"
      ]
    },
    {
      "cell_type": "markdown",
      "metadata": {
        "id": "oGa735eov--6"
      },
      "source": [
        "This function creates features from the rew post. It already contains all features that we will use thoughout the chapter."
      ]
    },
    {
      "cell_type": "code",
      "execution_count": null,
      "metadata": {
        "id": "FN3R1Lg4wK4r"
      },
      "outputs": [],
      "source": [
        "def extract_features_from_body(s):\n",
        "  num_code_lines = 0\n",
        "  link_count_in_code = 0\n",
        "  code_free_s = s\n",
        "\n",
        "  # remove source code and count how many lines\n",
        "  for match_str in code_match.findall(s):\n",
        "    num_code_lines += match_str.count('\\n')\n",
        "    code_free_s = code_match.sub(' ',code_free_s)\n",
        "    # sometimes source code contain links, which we don't want to count\n",
        "    link_count_in_code += len(link_match.findall(match_str))\n",
        "\n",
        "  links = link_match.findall(s)\n",
        "  link_count = len(links) - link_count_in_code\n",
        "  html_free_s=tag_match.sub(' ', code_free_s)\n",
        "  text = html_free_s\n",
        "  for link in links:\n",
        "    if link.lower().startswith('http://'):\n",
        "      text = text.replace(link, ' ')\n",
        "  text = whitespace_match.sub(' ', text)\n",
        "  num_text_tokens = text.count(' ')\n",
        "  return text, num_text_tokens, num_code_lines, link_count\n"
      ]
    },
    {
      "cell_type": "code",
      "execution_count": null,
      "metadata": {
        "id": "_LbRHQCh44wh"
      },
      "outputs": [],
      "source": [
        "num_questions = 0\n",
        "num_answers = 0"
      ]
    },
    {
      "cell_type": "code",
      "execution_count": null,
      "metadata": {
        "colab": {
          "base_uri": "https://localhost:8080/"
        },
        "id": "eOO3daDSB61c",
        "outputId": "09a9fc3f-d566-4687-f973-4ac9937511ae"
      },
      "outputs": [
        {
          "output_type": "stream",
          "name": "stdout",
          "text": [
            "Skipping the conversion step, loading data from /content/drive/My Drive/stackoverflow/filtered-2017-meta.tsv ...\n",
            "....done!\n"
          ]
        }
      ],
      "source": [
        "def parsexml(fn):\n",
        "  global num_questions, num_answers\n",
        "\n",
        "  # iterparse() returns a tuple (event, element). Since we request only\n",
        "  # 'start' events, we pipe the result through an itemgetter that  always returns\n",
        "  # the 2nd rusult.\n",
        "\n",
        "  it = map(itemgetter(1), etree.iterparse(fn, events = ('start',)))\n",
        "\n",
        "  # Get the <posts> element, in which we will parse the <row> elements. While doing so,\n",
        "  # we will need the root handle to clear memory\n",
        "  root = next(it)\n",
        "  counter = 0\n",
        "  for counter, elem in enumerate(tqdm(it, total = NUM_ROWS)):\n",
        "    if elem.tag != 'row':\n",
        "      continue\n",
        "    Id = int(elem.get('Id'))\n",
        "    PostTypeId = int(elem.get('PostTypeId'))\n",
        "    Score = int(elem.get('Score'))\n",
        "\n",
        "    if PostTypeId == 1:\n",
        "      num_questions += 1\n",
        "      ParentId = -1\n",
        "      filtered_meta['question'][Id] = []\n",
        "    elif PostTypeId == 2:\n",
        "      num_answers += 1\n",
        "      ParentId = int(elem.get('ParentId'))\n",
        "      if not ParentId in filtered_meta['question']:\n",
        "        # question is not from the same year so we have already dropped it\n",
        "        continue\n",
        "      filtered_meta['question'][ParentId].append((Id, Score))\n",
        "    else:\n",
        "      continue\n",
        "\n",
        "    Text, NumTextTokens, NumCodelines, LinkCount = extract_features_from_body(elem.get('Body'))\n",
        "      # We have to tell lxml that this element is not used anymore. Otherwise memory will\n",
        "      # blow up. See httpS://www.ibm.com/developerworks/xml/libraary/x-hiperfparse for more information.\n",
        "    elem.clear()\n",
        "    while elem.getprevious() is not None:\n",
        "      del elem.getparent()[0]\n",
        "\n",
        "    values = (Id, ParentId, Score, NumTextTokens, NumCodelines, LinkCount, Text)\n",
        "    # yield values is a generater statement that return a tuple of values from each iteration of the loop.\n",
        "    # for later use the function in a loop, to be more memory-efficient than build a large list.\n",
        "\n",
        "    yield values\n",
        "  print('Found %i posts' % counter)\n",
        "\n",
        "if any(not os.path.exists(fn) for fn in [fn_filtered, fn_filtered_meta]):\n",
        "  total = 0\n",
        "  with open(fn_filtered, 'w', encoding='utf-8') as f:\n",
        "    for values in parsexml(fn_posts):\n",
        "      line = '\\t'.join(map(str, values))\n",
        "\n",
        "      f.write(line + '\\n')\n",
        "      total += 1\n",
        "  filtered_meta['total'] = total\n",
        "\n",
        "  with open(fn_filtered_meta, 'w', encoding ='utf-8') as f:\n",
        "    json.dump(filtered_meta, f)\n",
        "  print('#question: %i' % num_questions)\n",
        "  print('#answers: %i' % num_answers)\n",
        "\n",
        "else:\n",
        "  print('Skipping the conversion step, loading data from %s ...' % fn_filtered_meta)\n",
        "  filtered_meta = json.load(open(fn_filtered_meta, 'r', encoding = 'utf-8'))\n",
        "  print('....done!')\n",
        "\n"
      ]
    },
    {
      "cell_type": "markdown",
      "metadata": {
        "id": "lBMEx6wdqB2p"
      },
      "source": [
        "To select the answers that we want to keep per question. Do this in two stages:\n",
        "\n",
        "\n",
        "1.   Stage 1 : Chosing question that have a postive and negative answer and then chosing the most postive and negative.\n",
        "2.   Stage 2 : Write out the featur\n",
        "es for those answers\n",
        "\n",
        "\n"
      ]
    },
    {
      "cell_type": "code",
      "execution_count": null,
      "metadata": {
        "colab": {
          "base_uri": "https://localhost:8080/",
          "height": 49,
          "referenced_widgets": [
            "5caede40c8d349c48c6d03e832998475",
            "92665e4b1f1c42d4901bf2cfd467d3d0",
            "ab2e0116181d4022a9bf40e52c02fcac",
            "7ddc4856b15c406885c2bc2189c4f8aa",
            "8d53d3eb5cf449b79ac3d7a78f56fe5b",
            "46e9e82aa256488fa301210af9d4448a",
            "2ad0bd8caa5249b993cb24766179b919",
            "f8a0bc75d09645e78385823b98fe8d34",
            "8820175c55a040e1964fe6974be4d9a4",
            "3bbbf87b2d0547fea9664e7fbca73ce2",
            "53496c949f1d42a487db1cd168ee7afe"
          ]
        },
        "id": "5EgoaE0wh9kN",
        "outputId": "6720b585-d946-4dbb-a1f1-e5b205e7fc2a"
      },
      "outputs": [
        {
          "output_type": "display_data",
          "data": {
            "text/plain": [
              "Stage 1::   0%|          | 0/2114089 [00:00<?, ?it/s]"
            ],
            "application/vnd.jupyter.widget-view+json": {
              "version_major": 2,
              "version_minor": 0,
              "model_id": "5caede40c8d349c48c6d03e832998475"
            }
          },
          "metadata": {}
        }
      ],
      "source": [
        "NUM_QUESTION_SAMPLE = 10000\n",
        "posts_to_keep = set()\n",
        "found_questions = 0\n",
        "\n",
        "question = filtered_meta['question']\n",
        "\n",
        "# Sorting the questions before iterating over them is only done for reproducability\n",
        "for ParentId, posts in tqdm(sorted(question.items()), desc = 'Stage 1:'):\n",
        "  assert ParentId != -1\n",
        "\n",
        "  if len(posts) < 2:\n",
        "    continue\n",
        "  neg_score_ids = []\n",
        "  pos_score_ids = []\n",
        "\n",
        "  for Id, Score in posts:\n",
        "    if Score < 0 :\n",
        "      neg_score_ids.append((Score, Id))\n",
        "    elif Score > 0 :\n",
        "      pos_score_ids.append((Score, Id))\n",
        "\n",
        "  if pos_score_ids and neg_score_ids:\n",
        "    posts_to_keep.add(int(ParentId))\n",
        "\n",
        "    posScore, posId = sorted(pos_score_ids)[-1]\n",
        "    posts_to_keep.add(posId)\n",
        "\n",
        "    negScore, negId = sorted(neg_score_ids)[0]\n",
        "    posts_to_keep.add(negId)\n",
        "\n",
        "    found_questions += 1\n",
        "\n",
        "  if found_questions >= NUM_QUESTION_SAMPLE:\n",
        "    break\n"
      ]
    },
    {
      "cell_type": "code",
      "execution_count": null,
      "metadata": {
        "colab": {
          "base_uri": "https://localhost:8080/",
          "height": 89,
          "referenced_widgets": [
            "4954a23789254f6e9c3852ed642aecab",
            "cd2dac1d07014ea59e6de6d6b591c4ae",
            "8ea29bed71de402d8bbcd1645f2ff83b",
            "dcb3942b12d74c249aaeafe91fe79556",
            "88c702e5439c40c098730118135f41be",
            "f6d26283cb324574a9701bb06deee7c1",
            "342a5364ea8146c186899bcf291f2163",
            "c9e0594a2c404a48b7c9bd957c47c108",
            "411772484b9342929770b8af7ff2b425",
            "6593db9b08cd46538e9036486cc8671a",
            "6d09089cd64749ce9635b1acdf31d2c0"
          ]
        },
        "id": "hzgZ56JpgmIy",
        "outputId": "05aea9fa-b07a-47c6-8a5c-7640d53959ed"
      },
      "outputs": [
        {
          "output_type": "display_data",
          "data": {
            "text/plain": [
              "stage 2::   0%|          | 0/5113519 [00:00<?, ?it/s]"
            ],
            "application/vnd.jupyter.widget-view+json": {
              "version_major": 2,
              "version_minor": 0,
              "model_id": "4954a23789254f6e9c3852ed642aecab"
            }
          },
          "metadata": {}
        },
        {
          "output_type": "stream",
          "name": "stdout",
          "text": [
            "read: 4624811\n",
            "kept: 30000\n"
          ]
        }
      ],
      "source": [
        "\n",
        "# no idea why we neeed to define already_written empty set!\n",
        "from collections import defaultdict\n",
        "already_written = set()\n",
        "sample_meta = defaultdict(dict)\n",
        "# defaultdict is a function, create a dictionary-like object, once to access a key it doesn't exist.\n",
        "# The key will be created automatically with a default value, in above code, it will provide dictionary\n",
        "# as the key's value.\n",
        "\n",
        "total = 0\n",
        "kept = 0\n",
        "\n",
        "with open(fn_sample, 'w', encoding = 'utf-8') as f:\n",
        "  # why don't use total to replace NUM_ROWS ?\n",
        "  for line in tqdm(open(fn_filtered, 'r', encoding = 'utf-8'), total = NUM_ROWS, desc = 'stage 2:'):\n",
        "    Id, ParentId, Score, NumTextTokens, NumCodeLines, LinkCount, Text = line.split('\\t')\n",
        "    Text = Text.strip()\n",
        "    total += 1\n",
        "\n",
        "\n",
        "    Id = int(Id)\n",
        "    if Id in posts_to_keep:\n",
        "      if Id in already_written:\n",
        "        print(Id, 'is already written')\n",
        "        continue\n",
        "\n",
        "      # select meta info\n",
        "      post = sample_meta[Id]\n",
        "      post['ParentId'] = int(ParentId)\n",
        "      post['Score'] = int(Score)\n",
        "      post['NumTextTokens'] = int(NumTextTokens)\n",
        "      post['NumCodeLines'] = int(NumCodeLines)\n",
        "      post['LinkCount'] = int(LinkCount)\n",
        "      post['idx'] = kept # index into the TSV file\n",
        "\n",
        "      if int(ParentId) == -1:\n",
        "        q = sample_meta[Id]\n",
        "        if not 'Answers' in q:\n",
        "          q['Answers'] = []\n",
        "\n",
        "      else:\n",
        "        q = sample_meta[int(ParentId)]\n",
        "        if 'Answers' not in q:\n",
        "          q['Answers'] = [Id]\n",
        "        else:\n",
        "          q['Answers'].append(Id)\n",
        "      f.writelines('%s\\t%s\\n' % (Id, Text)) # check if can use write to replace writelines\n",
        "      kept += 1\n",
        "\n",
        "with open(fn_sample_meta,'w') as fm:\n",
        "  json.dump(sample_meta, fm)\n",
        "\n",
        "print('read:', total)\n",
        "print('kept:', kept)\n",
        "\n",
        "\n"
      ]
    },
    {
      "cell_type": "markdown",
      "metadata": {
        "id": "AjIeAJ8r53R8"
      },
      "source": [
        "#Utility functions"
      ]
    },
    {
      "cell_type": "code",
      "execution_count": null,
      "metadata": {
        "id": "L8RnqjvAombc"
      },
      "outputs": [],
      "source": [
        "# to transfer fn_sample_meta to a normal dictionary meta for later use\n",
        "def load_meta(fn):\n",
        "  meta = json.load(open(fn,'r'))\n",
        "\n",
        "  #JSON only allows string keys, changing that to int\n",
        "  for key in list(meta.keys()):\n",
        "    meta[int(key)] = meta[key]\n",
        "    del meta[key]\n",
        "  return meta\n",
        "\n",
        "meta = load_meta(fn_sample_meta)\n",
        "\n",
        "def save_png(name):\n",
        "  fn = '%s.png'%name\n",
        "  plt.savefig(os.path.join(CHART_DIR, fn), bbox_inches='tight')"
      ]
    },
    {
      "cell_type": "markdown",
      "metadata": {
        "id": "fSXHgBTF6mlD"
      },
      "source": [
        "# Loading the features and labeling them"
      ]
    },
    {
      "cell_type": "code",
      "execution_count": null,
      "metadata": {
        "id": "Q1SDTjPJ56M7",
        "colab": {
          "base_uri": "https://localhost:8080/"
        },
        "outputId": "7dacc81a-c3e7-46cd-db24-02f552582385"
      },
      "outputs": [
        {
          "output_type": "stream",
          "name": "stdout",
          "text": [
            "(array([False,  True]), array([10000, 10000]))\n"
          ]
        }
      ],
      "source": [
        "import numpy as np\n",
        "all_answers = sorted ([a for a, v in meta.items() if v['ParentId'] != -1])\n",
        "Y = np.asarray([meta[aid]['Score'] > 0 for aid in all_answers])\n",
        "print(np.unique(Y, return_counts = True))"
      ]
    },
    {
      "cell_type": "markdown",
      "metadata": {
        "id": "ylxPMNXqFN7q"
      },
      "source": [
        "# Creating our first classifier : KNN using only LinkCount as a feature"
      ]
    },
    {
      "cell_type": "code",
      "execution_count": null,
      "metadata": {
        "id": "ddeQEcPSFWDk",
        "colab": {
          "base_uri": "https://localhost:8080/",
          "height": 814
        },
        "outputId": "51dde951-10a7-4d27-9cab-8a40565d34f1"
      },
      "outputs": [
        {
          "output_type": "stream",
          "name": "stdout",
          "text": [
            "[0 0 0 ... 0 0 0]\n"
          ]
        },
        {
          "output_type": "display_data",
          "data": {
            "text/plain": [
              "<Figure size 1500x1200 with 1 Axes>"
            ],
            "image/png": "[encoded data removed]"
          },
          "metadata": {}
        }
      ],
      "source": [
        "import matplotlib.pyplot as plt\n",
        "plt.style.use('ggplot')\n",
        "\n",
        "# create X in one dimension ndarray (dimension is very import!!!)\n",
        "X = np.asarray([meta[aid]['LinkCount'] for aid in all_answers])\n",
        "print(X)\n",
        "plt.figure(figsize=(5,4), dpi=300) # width and height of the plot in inches\n",
        "plt.title('LinkCount')\n",
        "plt.xlabel('Vaule')\n",
        "plt.ylabel('Occurrence')\n",
        "\n",
        "bin_edges = range(min(X), max(X) + 1)  # Creating a range of bin edges\n",
        "n, bins, patches = plt.hist(X, normed=1, bins=bin_edges, alpha=0.75)\n",
        "\n",
        "\n",
        "plt.grid(True)\n",
        "save_png('01_feat_hist_LinkCount')"
      ]
    },
    {
      "cell_type": "markdown",
      "metadata": {
        "id": "iVJWd3P9lV1y"
      },
      "source": [
        "# Training on LinkCount"
      ]
    },
    {
      "cell_type": "code",
      "execution_count": null,
      "metadata": {
        "id": "NiKqX6JAlYaJ",
        "colab": {
          "base_uri": "https://localhost:8080/",
          "height": 69,
          "referenced_widgets": [
            "8e89a40e73524f3c9e563989ceec5542",
            "398c425131494347b407e67455e34b8a",
            "c8fc960dc96a470fae280873cc8aa110",
            "44c424bab6e24b7199dec341164f00b8",
            "246d7f4ff83946d8baac9b7246fbd9e5",
            "6f4ccb3ae1cb49f9a25332d44b750c24",
            "7cb7956e48594fdbb08f6d5b5a439a3b",
            "c4195ed0eb12442e802ae8b56d864b74",
            "7f59ff7e9f8f45e480847debed943030",
            "3e65bcfed99b4d11a629b1f3110f6ed5",
            "821f211256f047f0be73c5f8a74495c1"
          ]
        },
        "outputId": "c6c19180-9657-4121-c88e-c8b68e706d92"
      },
      "outputs": [
        {
          "output_type": "display_data",
          "data": {
            "text/plain": [
              "0it [00:00, ?it/s]"
            ],
            "application/vnd.jupyter.widget-view+json": {
              "version_major": 2,
              "version_minor": 0,
              "model_id": "8e89a40e73524f3c9e563989ceec5542"
            }
          },
          "metadata": {}
        },
        {
          "output_type": "stream",
          "name": "stdout",
          "text": [
            "Mean(scores)=0.50120\tStddev(scores)=0.00991\n"
          ]
        }
      ],
      "source": [
        "from sklearn.neighbors import KNeighborsClassifier\n",
        "from sklearn.model_selection import KFold\n",
        "\n",
        "N_FOLDS = 10\n",
        "cv = KFold(n_splits = N_FOLDS, shuffle = True, random_state = 0)\n",
        "\n",
        "scores = []\n",
        "for train, test in tqdm(cv.split(X,Y)):\n",
        "  clf = KNeighborsClassifier()\n",
        "  clf.fit(X[train].reshape(-1,1), Y[train])\n",
        "  scores.append(clf.score(X[test].reshape(-1,1), Y[test]))\n",
        "\n",
        "print('Mean(scores)=%.5f\\tStddev(scores)=%.5f'%(np.mean(scores), np.std(scores)))\n"
      ]
    },
    {
      "cell_type": "markdown",
      "source": [
        "#Using more features"
      ],
      "metadata": {
        "id": "oSFDT_mwlm-Z"
      }
    },
    {
      "cell_type": "code",
      "source": [
        "def plot_feat_hist(data_name_list,filename=None):\n",
        "  if len(data_name_list) > 1:\n",
        "    assert filename is not None\n",
        "  num_rows = int( 1 + (len(data_name_list)-1) / 2)\n",
        "  num_cols = int(1 if len(data_name_list)== 1 else 2)\n",
        "  plt.figure(figsize = (5 * num_cols, 4 * num_rows), dpi = 300)\n",
        "\n",
        "  for i in range(num_rows):\n",
        "    for j in range(num_cols):\n",
        "      # plt.subplot(nrows, ncols, index)\n",
        "      plt.subplot(num_rows, num_cols, 1 + i * num_cols + j)\n",
        "      x, name = data_name_list[i* num_cols + j]\n",
        "      plt.title(name)\n",
        "      plt.xlabel('Value')\n",
        "      plt.ylabel('Occurrence')\n",
        "\n",
        "      max_val = np.max(x)\n",
        "      if max_val > 1000:\n",
        "        bins = range (0, max_val, 100)\n",
        "      elif max_val > 100:\n",
        "        bins = range (0, max_val, 10)\n",
        "      else:\n",
        "        bins = range(0, max_val)\n",
        "\n",
        "      n, bins, patches = plt.hist(x, bins = bins, density = True , alpha = 0.75)\n",
        "\n",
        "      plt.grid(True)\n",
        "      plt.tight_layout()\n",
        "\n",
        "  if not filename:\n",
        "    filename = 'feat_hist_%s' % name.replace(' ', '_')\n",
        "\n",
        "  save_png(filename)\n",
        "\n",
        "plot_feat_hist([(np.asarray([[meta[aid]['NumCodeLines']] for aid in all_answers]), 'NumCodeLines'),\n",
        " (np.asarray([[meta[aid]['NumTextTokens']] for aid in all_answers]), 'NumTextTokens')],\n",
        "               '02_feat_hist_CodeLines_TextTokens')\n"
      ],
      "metadata": {
        "colab": {
          "base_uri": "https://localhost:8080/",
          "height": 389
        },
        "id": "oeEDAHhKlpnG",
        "outputId": "aacc250a-bad6-4c07-d3a3-fd019434c5b7"
      },
      "execution_count": null,
      "outputs": [
        {
          "output_type": "display_data",
          "data": {
            "text/plain": [
              "<Figure size 3000x1200 with 2 Axes>"
            ],
            "image/png": "[encoded data removed]"
          },
          "metadata": {}
        }
      ]
    },
    {
      "cell_type": "markdown",
      "source": [
        "*** **Since the features vary in their value ranges, we need to staaandardize them using StandardScaler() so that KNN does not bias towards features having larger value intervals.**"
      ],
      "metadata": {
        "id": "BQDHTYjU5Duz"
      }
    },
    {
      "cell_type": "code",
      "source": [
        "from sklearn.preprocessing import StandardScaler\n",
        "from sklearn.pipeline import make_pipeline\n",
        "\n",
        "def get_features(aid, feature_names):\n",
        "  return tuple(meta[aid][fn] for fn in feature_names)\n",
        "X = np.asarray([get_features(aid, ['LinkCount', 'NumCodeLines', 'NumTextTokens'])\n",
        "for aid in all_answers], float)\n",
        "\n",
        "scores = []\n",
        "for train, test in tqdm(cv.split(X,Y), total = N_FOLDS):\n",
        "  clf = make_pipeline(StandardScaler(), KNeighborsClassifier())\n",
        "  clf.fit(X[train], Y[train])\n",
        "  scores.append(clf.score(X[test], Y[test]))\n",
        "\n",
        "print('Mean(scores)=%.5f\\tStddev(scores)=%.5f'%(np.mean(scores), np.std(scores)))"
      ],
      "metadata": {
        "id": "eYsOCi4u-bKj",
        "colab": {
          "base_uri": "https://localhost:8080/",
          "height": 69,
          "referenced_widgets": [
            "6db2354b1d1548309c73b142f1843287",
            "64f86d821e9546189941ef9876ec3bd4",
            "db93532325e141c0bed910852145e695",
            "f480fa90fcef4d0c95acaa60f8d7eba2",
            "4ba755f7df224f279f866c0b4a8346c6",
            "a53626aafefc4344981e99fc31009cbf",
            "b6788fdf6d8040ac80738e6c22024858",
            "4b3c0378000346ccaa291325b7f71b02",
            "90f551c01fc6465382bf242d3ca22731",
            "3e04876dbbd648bbaa45e9546cafe873",
            "06c1133a802d40f6bbebe710b6140745"
          ]
        },
        "outputId": "55e58b4c-86eb-4f5f-ad34-d27c91bb3e44"
      },
      "execution_count": null,
      "outputs": [
        {
          "output_type": "display_data",
          "data": {
            "text/plain": [
              "  0%|          | 0/10 [00:00<?, ?it/s]"
            ],
            "application/vnd.jupyter.widget-view+json": {
              "version_major": 2,
              "version_minor": 0,
              "model_id": "6db2354b1d1548309c73b142f1843287"
            }
          },
          "metadata": {}
        },
        {
          "output_type": "stream",
          "name": "stdout",
          "text": [
            "Mean(scores)=0.59835\tStddev(scores)=0.01093\n"
          ]
        }
      ]
    },
    {
      "cell_type": "markdown",
      "source": [
        "# Designing more features\n",
        "let's create some more text based features like average sentence and word length, how many words are CAPITALIZED or contain exclamation marks.\n",
        "we simply fetch th epost texts, calculate the statistics and add them to the meta dictionary."
      ],
      "metadata": {
        "id": "sFTVvYqeq2h8"
      }
    },
    {
      "cell_type": "code",
      "source": [
        "import nltk\n",
        "nltk.download('punkt')\n",
        "def fetch_post(fn):\n",
        "  for line in open(fn, 'r', encoding = 'utf-8'):\n",
        "    post_id, text = line.split('\\t')\n",
        "    yield int(post_id), text.strip()\n",
        "# add more features to meta\n",
        "def add_sentence_features(m):\n",
        "  for pid, text in fetch_post(fn_sample):\n",
        "    if not text:\n",
        "      for feat in ['AvgSentLen', 'AvgWordLen', 'NumAllCaps', 'NumExclams']:\n",
        "        m[pid][feat] = 0\n",
        "    else:\n",
        "      sent_lens = [len(nltk.word_tokenize(sent)) for sent in nltk.sent_tokenize(text)]\n",
        "      m[pid]['AvgSentLen'] = np.mean(sent_lens)\n",
        "      text_tokens = nltk.word_tokenize(text)\n",
        "      m[pid]['AvgWordLen'] = np.mean([len(w) for w in text_tokens])\n",
        "      m[pid]['NumAllCaps'] = np.sum([word.isupper() for word in text_tokens])\n",
        "      m[pid]['NumExclams'] = text.count('!')\n",
        "\n",
        "add_sentence_features(meta)\n",
        "\n",
        "plot_feat_hist([(np.asarray([[meta[aid][feat]] for aid in all_answers],\n",
        "                            dtype=int), feat) for feat in [\n",
        "                                'AvgSentLen', 'AvgWordLen', 'NumAllCaps', 'NumExclams']],\n",
        "              '03_feat_hist_AvgSentLen_AvgWordLen_NumAllCaps_NumExclams')\n",
        "\n",
        "\n"
      ],
      "metadata": {
        "colab": {
          "base_uri": "https://localhost:8080/",
          "height": 809
        },
        "id": "4ppjdzNdFqzR",
        "outputId": "31898168-3004-4e49-b788-99efa41a1334"
      },
      "execution_count": null,
      "outputs": [
        {
          "output_type": "stream",
          "name": "stderr",
          "text": [
            "[nltk_data] Downloading package punkt to /root/nltk_data...\n",
            "[nltk_data]   Unzipping tokenizers/punkt.zip.\n"
          ]
        },
        {
          "output_type": "display_data",
          "data": {
            "text/plain": [
              "<Figure size 3000x2400 with 4 Axes>"
            ],
            "image/png": "[encoded data removed]"
          },
          "metadata": {}
        }
      ]
    },
    {
      "cell_type": "code",
      "source": [
        "x = np.asarray([get_features(aid, ['LinkCount', 'NumCodeLines', 'NumTextTokens',\n",
        "                            'AvgSentLen', 'AvgWordLen', 'NumAllCaps',\n",
        "                            'NumExclams']) for aid in all_answers], float)\n",
        "\n",
        "scores = []\n",
        "for train, test in tqdm(cv.split(X, Y), total = N_FOLDS):\n",
        "  clf = make_pipeline(StandardScaler(), KNeighborsClassifier())\n",
        "  clf.fit(X[train], Y[train])\n",
        "  scores.append(clf.score(X[test], Y[test]))\n",
        "\n",
        "print('Mean(scores)=%.5f\\tStddev(scores)=%.5f'% (np.mean(scores), np.std(scores)))\n"
      ],
      "metadata": {
        "colab": {
          "base_uri": "https://localhost:8080/",
          "height": 69,
          "referenced_widgets": [
            "7cc5fa899bf84b10a617825fbec97dd3",
            "bfa1f109b0934dd18a314ad949e6ca30",
            "638bd58547054554aa8bbf1222ce70c3",
            "3b6c3b2bb1634bea8ee02fbb49ad7ac4",
            "e67bdf7a64a248218f8f4c5383815286",
            "ebb17266c69b4736b49506265e120dad",
            "4fefbb41bf784eeab523302abb0d79e5",
            "9bcfd6c40bcc464baa1892981b5be550",
            "b6499a9e8f2446258b80f107a15344f8",
            "7f057d52b21841e6a9d9bcd475f9a21c",
            "cff6089d7f7a47e6a27b495454a305e3"
          ]
        },
        "id": "IuSlpgdBg9E7",
        "outputId": "bc44f093-8c7a-40c1-f972-d576d273fef0"
      },
      "execution_count": null,
      "outputs": [
        {
          "output_type": "display_data",
          "data": {
            "text/plain": [
              "  0%|          | 0/10 [00:00<?, ?it/s]"
            ],
            "application/vnd.jupyter.widget-view+json": {
              "version_major": 2,
              "version_minor": 0,
              "model_id": "7cc5fa899bf84b10a617825fbec97dd3"
            }
          },
          "metadata": {}
        },
        {
          "output_type": "stream",
          "name": "stdout",
          "text": [
            "Mean(scores)=0.59835\tStddev(scores)=0.01093\n"
          ]
        }
      ]
    },
    {
      "cell_type": "markdown",
      "source": [
        "# High or low bias?"
      ],
      "metadata": {
        "id": "fwLVZeSjVD59"
      }
    },
    {
      "cell_type": "code",
      "source": [
        "from sklearn.metrics import precision_recall_curve, roc_curve, auc, classification_report\n",
        "\n",
        "def plot_bias_variance(data_size, train_errors, test_errors, name, title):\n",
        "  plt.figure(num = None, figsize = (6,5), dpi = 300)\n",
        "  plt.ylim([0.0, 1.0])\n",
        "  plt.xlabel('Data set Size')\n",
        "  plt.ylabel('Error')\n",
        "  plt.title(\"Bias-Variance for '%s'\" % name)\n",
        "  plt.plot(data_size, test_errors, '--', data_size,  train_errors, 'b-', lw=1)\n",
        "  plt.legend(['test error', 'train error'], loc = 'upper right')\n",
        "  plt.grid(True)\n",
        "\n",
        "def plot_pr(auc_score, name, precision, recall, label = None):\n",
        "  plt.figure(num=None, figsize=(6,5), dpi=300)\n",
        "  plt.xlim([0.0, 1.0])\n",
        "  plt.ylim([0.0, 1.0])\n",
        "  plt.xlabel('Recall')\n",
        "  plt.ylabel('Precision')\n",
        "  plt.tilte('P/R (AUC=%0.2f) / %s' % (auc_score, label))\n",
        "  plt.fill_between(recall, precision, alpha=0.5)\n",
        "  plt.grid(True)\n",
        "  plt.plot(recall, precision, lw=1)\n",
        "  filename = name.replace(' ', '_')+'_pr'\n",
        "  save_png(filename)\n",
        "\n",
        "def plot_feat_importance(feature_names, clf, name):\n",
        "  plt.figure(num=None, figsize=(6, 5), dpi=300)\n",
        "  coef_ = clf.coef_\n",
        "  important = np.argsort(np.absolute(coef_.ravel()))\n",
        "  f_imp = feature_names[important]\n",
        "  coef = coef_.ravel()[important]\n",
        "  inds = np.argsort(coef)\n",
        "  f_imp = f_imp[inds]\n",
        "  coef = coef[inds]\n",
        "  xpos = np.array(list(range(len(coef))))\n",
        "  plt.bar(xpos, coef, width=1, alpha=0.75)\n",
        "\n",
        "  plt.title('Feature importance for %s' % (name.split('_')[-1]))\n",
        "  ax = plt.gca()\n",
        "  ax.set_xticks(np.arange(len(coef)))\n",
        "  labels = ax.set_xticklabels(f_imp)\n",
        "  for label in labels:\n",
        "    label.set_rotation(90)\n",
        "  filename = name.replace(' ', '_')+'_feat_imp'\n",
        "  save_png(filename)\n",
        "\n",
        "def measure(clf_class, parameters, name, X, Y, data_size=None, plot=None, features_names=None ):\n",
        "  if data_size is not None:\n",
        "    X = X[:data_size]\n",
        "    Y = Y[:data_size]\n",
        "\n",
        "  train_errors = []\n",
        "  test_errors = []\n",
        "  score =[]\n",
        "  roc_scores = []\n",
        "  fprs, tprs = [], []\n",
        "  pr_scores = []\n",
        "  precisions, recalls, thresholds = [], [], []\n",
        "\n",
        "  for fold_idx, (train, test) in enumerate (cv.split(X,Y)):\n",
        "    X_train, Y_train = X[train], Y[train]\n",
        "    X_test, Y_test = X[test], Y[test]\n",
        "\n",
        "    only_one_class_in_train = len(set(Y_train)) == 1\n",
        "    only_one_class_in_test = len(set(Y_test)) == 1\n",
        "    if only_one_class_in_train or only_one_class_in_test:\n",
        "      # this would pose problems later on\n",
        "      continue\n",
        "    clf = clf_class(**parameters)\n",
        "\n",
        "    clf.fit(X_train, Y_train)\n",
        "\n",
        "    train_score = clf.score(X_train, Y_train)\n",
        "    test_score = clf.score(X_test, Y_test)\n",
        "\n",
        "    train_errors.append(1 - train_score)\n",
        "    test_errors.append(1 - test_score)\n",
        "\n",
        "    scores.append(test_score)\n",
        "    proba = clf.predict_proba(X_test)\n",
        "\n",
        "    label_idx = 1\n",
        "    fpr, tpr, roc_thresholds = roc_curve(Y_test,proba[:, label_idx])\n",
        "    precision, recall, pr_thresholds = precision_recall_curve(Y_test, proba[:, label_idx])\n",
        "\n",
        "    roc_scores.append(auc(fpr, tpr))\n",
        "    fprs.append(fpr)\n",
        "    tprs.append(tpr)\n",
        "\n",
        "    pr_scores.append(auc(recall, precision))\n",
        "    precisions.append(precision)\n",
        "    recalls.append(recall)\n",
        "    thresholds.append(pr_thresholds)\n",
        "\n",
        "    # This threshold is determined at the end of the chapter,\n",
        "    # where we find conditions such that precision is in the are of\n",
        "    # about 80%, With it we trade off recall for precision.\n",
        "    trhreshold_for_detecting_good_answer = 0.59\n",
        "\n",
        "    if False:\n",
        "      print('Clone#%i' % fold_idx)\n",
        "      print(classification_report(Y_test, proba[:, label_idx]) >\n",
        "            threshold_for_detecting_good_answers, target_names = ['not accepted', 'accepted'])\n",
        "      # get medium clone\n",
        "  scores_to_sort = pr_scores # roc_scores\n",
        "  medium = np.argsort(scores_to_sort)[len(scores_to_sort) // 2]\n",
        "  # print ('Medium clone is #%i' % medium)\n",
        "\n",
        "  if plot:\n",
        "    # plt_roc(roc_socres[medium], name, fprs[medium], tprs[medium])\n",
        "    plot_pr(pr_scores[medium], name, precisions[medium],\n",
        "            recalls[medium], plot + 'answers')\n",
        "\n",
        "    if hasattr(clf, 'coef_'):\n",
        "      plot_feat_importance(feature_names, clf, name)\n",
        "    elif hasattr(clf, 'name_steps'):\n",
        "      for step, s_clf in clf.named_steps.items():\n",
        "        if hasattr(s_clf, 'coef_'):\n",
        "          plot_feat_importance(feature_names, s_clf, name)\n",
        "\n",
        "  summary = {'name': name, 'scores': scores,\n",
        "             'roc_scores': roc_scores,\n",
        "             'pr_scores': pr_scores,\n",
        "             'med_precisions': precisions[medium],\n",
        "             'med_recalls': recall[medium],\n",
        "             'med_thresholds': thresholds[medium]}\n",
        "\n",
        "  return np.mean(train_errors), np.mean(test_errors), summary\n",
        "\n",
        "def bias_variance_analysis(clf_class, parameters, name, X, Y):\n",
        "  data_sizes = np.arange(40, 2000, 20)\n",
        "  train_errors = []\n",
        "  test_errors = []\n",
        "\n",
        "  for data_size in data_sizes:\n",
        "    train_error, test_error, _ = measure(clf_class, parameters, name, X, Y, data_size=data_size)\n",
        "    train_errors.append(train_error)\n",
        "    test_errors.append(test_error)\n",
        "\n",
        "  plot_bias_variance(data_sizes, train_errors, test_errors, name, \"Bias-Variance for '%s'\" % name)"
      ],
      "metadata": {
        "id": "IZtVMDxx5uDK"
      },
      "execution_count": null,
      "outputs": []
    },
    {
      "cell_type": "markdown",
      "source": [
        "As we have learned in the previous chapter, when using features with different value ranges, it hleps to standardize them"
      ],
      "metadata": {
        "id": "0A3bHBI6B37T"
      }
    },
    {
      "cell_type": "code",
      "source": [
        "def create_pipeline(**param):\n",
        "  return make_pipeline(StandardScaler(), KNeighborsClassifier(**param))\n",
        "\n",
        "bias_variance_analysis(create_pipeline, {'n_neighbors': 5}, '5NN', X, Y )\n",
        "save_png('04_bv_5NN_all')\n"
      ],
      "metadata": {
        "id": "4UKN33PSCGXF",
        "colab": {
          "base_uri": "https://localhost:8080/",
          "height": 438
        },
        "outputId": "f0ac303d-b36e-45bd-ac87-12c527176cfa"
      },
      "execution_count": null,
      "outputs": [
        {
          "output_type": "error",
          "ename": "IndexError",
          "evalue": "ignored",
          "traceback": [
            "\u001b[0;31m---------------------------------------------------------------------------\u001b[0m",
            "\u001b[0;31mIndexError\u001b[0m                                Traceback (most recent call last)",
            "\u001b[0;32m<ipython-input-44-ccf88f355ad8>\u001b[0m in \u001b[0;36m<cell line: 4>\u001b[0;34m()\u001b[0m\n\u001b[1;32m      2\u001b[0m   \u001b[0;32mreturn\u001b[0m \u001b[0mmake_pipeline\u001b[0m\u001b[0;34m(\u001b[0m\u001b[0mStandardScaler\u001b[0m\u001b[0;34m(\u001b[0m\u001b[0;34m)\u001b[0m\u001b[0;34m,\u001b[0m \u001b[0mKNeighborsClassifier\u001b[0m\u001b[0;34m(\u001b[0m\u001b[0;34m**\u001b[0m\u001b[0mparam\u001b[0m\u001b[0;34m)\u001b[0m\u001b[0;34m)\u001b[0m\u001b[0;34m\u001b[0m\u001b[0;34m\u001b[0m\u001b[0m\n\u001b[1;32m      3\u001b[0m \u001b[0;34m\u001b[0m\u001b[0m\n\u001b[0;32m----> 4\u001b[0;31m \u001b[0mbias_variance_analysis\u001b[0m\u001b[0;34m(\u001b[0m\u001b[0mcreate_pipeline\u001b[0m\u001b[0;34m,\u001b[0m \u001b[0;34m{\u001b[0m\u001b[0;34m'n_neighbors'\u001b[0m\u001b[0;34m:\u001b[0m \u001b[0;36m5\u001b[0m\u001b[0;34m}\u001b[0m\u001b[0;34m,\u001b[0m \u001b[0;34m'5NN'\u001b[0m\u001b[0;34m,\u001b[0m \u001b[0mX\u001b[0m\u001b[0;34m,\u001b[0m \u001b[0mY\u001b[0m \u001b[0;34m)\u001b[0m\u001b[0;34m\u001b[0m\u001b[0;34m\u001b[0m\u001b[0m\n\u001b[0m\u001b[1;32m      5\u001b[0m \u001b[0msave_png\u001b[0m\u001b[0;34m(\u001b[0m\u001b[0;34m'04_bv_5NN_all'\u001b[0m\u001b[0;34m)\u001b[0m\u001b[0;34m\u001b[0m\u001b[0;34m\u001b[0m\u001b[0m\n",
            "\u001b[0;32m<ipython-input-43-fe2816123a16>\u001b[0m in \u001b[0;36mbias_variance_analysis\u001b[0;34m(clf_class, parameters, name, X, Y)\u001b[0m\n\u001b[1;32m    134\u001b[0m \u001b[0;34m\u001b[0m\u001b[0m\n\u001b[1;32m    135\u001b[0m   \u001b[0;32mfor\u001b[0m \u001b[0mdata_size\u001b[0m \u001b[0;32min\u001b[0m \u001b[0mdata_sizes\u001b[0m\u001b[0;34m:\u001b[0m\u001b[0;34m\u001b[0m\u001b[0;34m\u001b[0m\u001b[0m\n\u001b[0;32m--> 136\u001b[0;31m     \u001b[0mtrain_error\u001b[0m\u001b[0;34m,\u001b[0m \u001b[0mtest_error\u001b[0m\u001b[0;34m,\u001b[0m \u001b[0m_\u001b[0m \u001b[0;34m=\u001b[0m \u001b[0mmeasure\u001b[0m\u001b[0;34m(\u001b[0m\u001b[0mclf_class\u001b[0m\u001b[0;34m,\u001b[0m \u001b[0mparameters\u001b[0m\u001b[0;34m,\u001b[0m \u001b[0mname\u001b[0m\u001b[0;34m,\u001b[0m \u001b[0mX\u001b[0m\u001b[0;34m,\u001b[0m \u001b[0mY\u001b[0m\u001b[0;34m,\u001b[0m \u001b[0mdata_size\u001b[0m\u001b[0;34m=\u001b[0m\u001b[0mdata_size\u001b[0m\u001b[0;34m)\u001b[0m\u001b[0;34m\u001b[0m\u001b[0;34m\u001b[0m\u001b[0m\n\u001b[0m\u001b[1;32m    137\u001b[0m     \u001b[0mtrain_errors\u001b[0m\u001b[0;34m.\u001b[0m\u001b[0mappend\u001b[0m\u001b[0;34m(\u001b[0m\u001b[0mtrain_error\u001b[0m\u001b[0;34m)\u001b[0m\u001b[0;34m\u001b[0m\u001b[0;34m\u001b[0m\u001b[0m\n\u001b[1;32m    138\u001b[0m     \u001b[0mtest_errors\u001b[0m\u001b[0;34m.\u001b[0m\u001b[0mappend\u001b[0m\u001b[0;34m(\u001b[0m\u001b[0mtest_error\u001b[0m\u001b[0;34m)\u001b[0m\u001b[0;34m\u001b[0m\u001b[0;34m\u001b[0m\u001b[0m\n",
            "\u001b[0;32m<ipython-input-43-fe2816123a16>\u001b[0m in \u001b[0;36mmeasure\u001b[0;34m(clf_class, parameters, name, X, Y, data_size, plot, features_names)\u001b[0m\n\u001b[1;32m    123\u001b[0m              \u001b[0;34m'pr_scores'\u001b[0m\u001b[0;34m:\u001b[0m \u001b[0mpr_scores\u001b[0m\u001b[0;34m,\u001b[0m\u001b[0;34m\u001b[0m\u001b[0;34m\u001b[0m\u001b[0m\n\u001b[1;32m    124\u001b[0m              \u001b[0;34m'med_precisions'\u001b[0m\u001b[0;34m:\u001b[0m \u001b[0mprecisions\u001b[0m\u001b[0;34m[\u001b[0m\u001b[0mmedium\u001b[0m\u001b[0;34m]\u001b[0m\u001b[0;34m,\u001b[0m\u001b[0;34m\u001b[0m\u001b[0;34m\u001b[0m\u001b[0m\n\u001b[0;32m--> 125\u001b[0;31m              \u001b[0;34m'med_recalls'\u001b[0m\u001b[0;34m:\u001b[0m \u001b[0mrecall\u001b[0m\u001b[0;34m[\u001b[0m\u001b[0mmedium\u001b[0m\u001b[0;34m]\u001b[0m\u001b[0;34m,\u001b[0m\u001b[0;34m\u001b[0m\u001b[0;34m\u001b[0m\u001b[0m\n\u001b[0m\u001b[1;32m    126\u001b[0m              'med_thresholds': thresholds[medium]}\n\u001b[1;32m    127\u001b[0m \u001b[0;34m\u001b[0m\u001b[0m\n",
            "\u001b[0;31mIndexError\u001b[0m: index 8 is out of bounds for axis 0 with size 6"
          ]
        }
      ]
    },
    {
      "cell_type": "markdown",
      "source": [
        "Maybe simplifying the feature space helps. Let's try out to use only LinkCount and NumTextTokens:"
      ],
      "metadata": {
        "id": "1t2Us6pee9WC"
      }
    },
    {
      "cell_type": "code",
      "source": [
        "from sklearn.utils import shuffle\n",
        "X_simp = np.asarray([get_features(aid, ['LinkCount', 'NumTextTokens']) for aid in all_answers],\n",
        "                    float)\n",
        "X_simp, Y_simp = shuffle(X_simp, Y, random_state = 0)\n",
        "\n",
        "bias_variance_analysis(create_pipeline, {'n_neighbors': 5}, '5NN', X_simp, Y_simp)\n",
        "save_png('05_bv_5NN_simp')\n"
      ],
      "metadata": {
        "id": "QDCY8KdgfJxj"
      },
      "execution_count": null,
      "outputs": []
    },
    {
      "cell_type": "markdown",
      "source": [
        "Does it help to reduce the model complexity by increasing k?"
      ],
      "metadata": {
        "id": "lc66SO2brdB-"
      }
    },
    {
      "cell_type": "code",
      "source": [
        "print('k\\tmean(scores)\\tstddev(scores)')\n",
        "for k in [5, 10, 40]:\n",
        "  _, _, summary = measure(create_pipeline, {'n_neighbors': k}, '%iNN' % k, X, Y)\n",
        "  print('%d\\t%.4f\\t\\t%.4f' % (k, np.mean(summary['scores']), np.std(summary['scores'])))\n"
      ],
      "metadata": {
        "id": "ZqUGyZPLri9e"
      },
      "execution_count": null,
      "outputs": []
    },
    {
      "cell_type": "markdown",
      "source": [
        "It helps a bit, but do we really want to compare with 40 different samples each time?"
      ],
      "metadata": {
        "id": "tDOo48ryJlo0"
      }
    },
    {
      "cell_type": "code",
      "source": [
        "def plot_k_complexity(ks, train_errors, test_errors):\n",
        "  plt.figure(num=None, figsize = (6,5), dpi = 300)\n",
        "  plt.ylim([0.0, 1.0])\n",
        "  plt.xlabel('$k$')\n",
        "  plt.ylabel('Error')\n",
        "  plt.title('Errors for different values of $k$')\n",
        "  plt.plot(ks, test_errors, '--', ks, train_errors, '-', lw=1)\n",
        "  plt.legend(['test error', 'train error'], loc='upper right')\n",
        "  plt.grid(True)\n",
        "  save_png('06_kcomplexity')\n",
        "\n",
        "def k_complexity_analysis(clf_class, X, Y):\n",
        "  # Measure for different K's: [1,2,....,20,25,..,100]\n",
        "  ks= np.hstack((np.arange(1,21), np.arange(25, 101, 5)))\n",
        "\n",
        "  train_errors = []\n",
        "  test_errors = []\n",
        "\n",
        "  for k in ks:\n",
        "    train_error, test_error, _ = measure(clf_class, {'n_neighbors': k}, '%dNN' % k, X, Y,\n",
        "                                         data_size = 2000)\n",
        "    train_errors.append(train_error)\n",
        "    test_errors.apped(test_error)\n",
        "\n",
        "  plot_k_complexity(ks, train_errors, test_errors)\n",
        "\n",
        "k_complexity_analysis(create_pipeline, X, Y)"
      ],
      "metadata": {
        "colab": {
          "base_uri": "https://localhost:8080/",
          "height": 196
        },
        "id": "3dKxuRskLHVu",
        "outputId": "d6cc90ed-5687-45f5-af9c-d098c2228222"
      },
      "execution_count": null,
      "outputs": [
        {
          "output_type": "error",
          "ename": "NameError",
          "evalue": "ignored",
          "traceback": [
            "\u001b[0;31m---------------------------------------------------------------------------\u001b[0m",
            "\u001b[0;31mNameError\u001b[0m                                 Traceback (most recent call last)",
            "\u001b[0;32m<ipython-input-2-cbc1dd0e6adf>\u001b[0m in \u001b[0;36m<cell line: 1>\u001b[0;34m()\u001b[0m\n\u001b[0;32m----> 1\u001b[0;31m \u001b[0mprint\u001b[0m\u001b[0;34m(\u001b[0m\u001b[0mnp\u001b[0m\u001b[0;34m.\u001b[0m\u001b[0marange\u001b[0m\u001b[0;34m(\u001b[0m\u001b[0;36m1\u001b[0m\u001b[0;34m,\u001b[0m\u001b[0;36m21\u001b[0m\u001b[0;34m)\u001b[0m\u001b[0;34m)\u001b[0m\u001b[0;34m\u001b[0m\u001b[0;34m\u001b[0m\u001b[0m\n\u001b[0m",
            "\u001b[0;31mNameError\u001b[0m: name 'np' is not defined"
          ]
        }
      ]
    }
  ],
  "metadata": {
    "colab": {
      "provenance": [],
      "authorship_tag": "ABX9TyOuzL2tPOmb9y/0apz1zSFh",
      "include_colab_link": true
    },
    "kernelspec": {
      "display_name": "Python 3",
      "name": "python3"
    },
    "language_info": {
      "name": "python"
    },
    "widgets": {
      "application/vnd.jupyter.widget-state+json": {
        "5caede40c8d349c48c6d03e832998475": {
          "model_module": "@jupyter-widgets/controls",
          "model_name": "HBoxModel",
          "model_module_version": "1.5.0",
          "state": {
            "_dom_classes": [],
            "_model_module": "@jupyter-widgets/controls",
            "_model_module_version": "1.5.0",
            "_model_name": "HBoxModel",
            "_view_count": null,
            "_view_module": "@jupyter-widgets/controls",
            "_view_module_version": "1.5.0",
            "_view_name": "HBoxView",
            "box_style": "",
            "children": [
              "IPY_MODEL_92665e4b1f1c42d4901bf2cfd467d3d0",
              "IPY_MODEL_ab2e0116181d4022a9bf40e52c02fcac",
              "IPY_MODEL_7ddc4856b15c406885c2bc2189c4f8aa"
            ],
            "layout": "IPY_MODEL_8d53d3eb5cf449b79ac3d7a78f56fe5b"
          }
        },
        "92665e4b1f1c42d4901bf2cfd467d3d0": {
          "model_module": "@jupyter-widgets/controls",
          "model_name": "HTMLModel",
          "model_module_version": "1.5.0",
          "state": {
            "_dom_classes": [],
            "_model_module": "@jupyter-widgets/controls",
            "_model_module_version": "1.5.0",
            "_model_name": "HTMLModel",
            "_view_count": null,
            "_view_module": "@jupyter-widgets/controls",
            "_view_module_version": "1.5.0",
            "_view_name": "HTMLView",
            "description": "",
            "description_tooltip": null,
            "layout": "IPY_MODEL_46e9e82aa256488fa301210af9d4448a",
            "placeholder": "​",
            "style": "IPY_MODEL_2ad0bd8caa5249b993cb24766179b919",
            "value": "Stage 1::  39%"
          }
        },
        "ab2e0116181d4022a9bf40e52c02fcac": {
          "model_module": "@jupyter-widgets/controls",
          "model_name": "FloatProgressModel",
          "model_module_version": "1.5.0",
          "state": {
            "_dom_classes": [],
            "_model_module": "@jupyter-widgets/controls",
            "_model_module_version": "1.5.0",
            "_model_name": "FloatProgressModel",
            "_view_count": null,
            "_view_module": "@jupyter-widgets/controls",
            "_view_module_version": "1.5.0",
            "_view_name": "ProgressView",
            "bar_style": "danger",
            "description": "",
            "description_tooltip": null,
            "layout": "IPY_MODEL_f8a0bc75d09645e78385823b98fe8d34",
            "max": 2114089,
            "min": 0,
            "orientation": "horizontal",
            "style": "IPY_MODEL_8820175c55a040e1964fe6974be4d9a4",
            "value": 834228
          }
        },
        "7ddc4856b15c406885c2bc2189c4f8aa": {
          "model_module": "@jupyter-widgets/controls",
          "model_name": "HTMLModel",
          "model_module_version": "1.5.0",
          "state": {
            "_dom_classes": [],
            "_model_module": "@jupyter-widgets/controls",
            "_model_module_version": "1.5.0",
            "_model_name": "HTMLModel",
            "_view_count": null,
            "_view_module": "@jupyter-widgets/controls",
            "_view_module_version": "1.5.0",
            "_view_name": "HTMLView",
            "description": "",
            "description_tooltip": null,
            "layout": "IPY_MODEL_3bbbf87b2d0547fea9664e7fbca73ce2",
            "placeholder": "​",
            "style": "IPY_MODEL_53496c949f1d42a487db1cd168ee7afe",
            "value": " 834228/2114089 [00:00&lt;00:01, 1131097.08it/s]"
          }
        },
        "8d53d3eb5cf449b79ac3d7a78f56fe5b": {
          "model_module": "@jupyter-widgets/base",
          "model_name": "LayoutModel",
          "model_module_version": "1.2.0",
          "state": {
            "_model_module": "@jupyter-widgets/base",
            "_model_module_version": "1.2.0",
            "_model_name": "LayoutModel",
            "_view_count": null,
            "_view_module": "@jupyter-widgets/base",
            "_view_module_version": "1.2.0",
            "_view_name": "LayoutView",
            "align_content": null,
            "align_items": null,
            "align_self": null,
            "border": null,
            "bottom": null,
            "display": null,
            "flex": null,
            "flex_flow": null,
            "grid_area": null,
            "grid_auto_columns": null,
            "grid_auto_flow": null,
            "grid_auto_rows": null,
            "grid_column": null,
            "grid_gap": null,
            "grid_row": null,
            "grid_template_areas": null,
            "grid_template_columns": null,
            "grid_template_rows": null,
            "height": null,
            "justify_content": null,
            "justify_items": null,
            "left": null,
            "margin": null,
            "max_height": null,
            "max_width": null,
            "min_height": null,
            "min_width": null,
            "object_fit": null,
            "object_position": null,
            "order": null,
            "overflow": null,
            "overflow_x": null,
            "overflow_y": null,
            "padding": null,
            "right": null,
            "top": null,
            "visibility": null,
            "width": null
          }
        },
        "46e9e82aa256488fa301210af9d4448a": {
          "model_module": "@jupyter-widgets/base",
          "model_name": "LayoutModel",
          "model_module_version": "1.2.0",
          "state": {
            "_model_module": "@jupyter-widgets/base",
            "_model_module_version": "1.2.0",
            "_model_name": "LayoutModel",
            "_view_count": null,
            "_view_module": "@jupyter-widgets/base",
            "_view_module_version": "1.2.0",
            "_view_name": "LayoutView",
            "align_content": null,
            "align_items": null,
            "align_self": null,
            "border": null,
            "bottom": null,
            "display": null,
            "flex": null,
            "flex_flow": null,
            "grid_area": null,
            "grid_auto_columns": null,
            "grid_auto_flow": null,
            "grid_auto_rows": null,
            "grid_column": null,
            "grid_gap": null,
            "grid_row": null,
            "grid_template_areas": null,
            "grid_template_columns": null,
            "grid_template_rows": null,
            "height": null,
            "justify_content": null,
            "justify_items": null,
            "left": null,
            "margin": null,
            "max_height": null,
            "max_width": null,
            "min_height": null,
            "min_width": null,
            "object_fit": null,
            "object_position": null,
            "order": null,
            "overflow": null,
            "overflow_x": null,
            "overflow_y": null,
            "padding": null,
            "right": null,
            "top": null,
            "visibility": null,
            "width": null
          }
        },
        "2ad0bd8caa5249b993cb24766179b919": {
          "model_module": "@jupyter-widgets/controls",
          "model_name": "DescriptionStyleModel",
          "model_module_version": "1.5.0",
          "state": {
            "_model_module": "@jupyter-widgets/controls",
            "_model_module_version": "1.5.0",
            "_model_name": "DescriptionStyleModel",
            "_view_count": null,
            "_view_module": "@jupyter-widgets/base",
            "_view_module_version": "1.2.0",
            "_view_name": "StyleView",
            "description_width": ""
          }
        },
        "f8a0bc75d09645e78385823b98fe8d34": {
          "model_module": "@jupyter-widgets/base",
          "model_name": "LayoutModel",
          "model_module_version": "1.2.0",
          "state": {
            "_model_module": "@jupyter-widgets/base",
            "_model_module_version": "1.2.0",
            "_model_name": "LayoutModel",
            "_view_count": null,
            "_view_module": "@jupyter-widgets/base",
            "_view_module_version": "1.2.0",
            "_view_name": "LayoutView",
            "align_content": null,
            "align_items": null,
            "align_self": null,
            "border": null,
            "bottom": null,
            "display": null,
            "flex": null,
            "flex_flow": null,
            "grid_area": null,
            "grid_auto_columns": null,
            "grid_auto_flow": null,
            "grid_auto_rows": null,
            "grid_column": null,
            "grid_gap": null,
            "grid_row": null,
            "grid_template_areas": null,
            "grid_template_columns": null,
            "grid_template_rows": null,
            "height": null,
            "justify_content": null,
            "justify_items": null,
            "left": null,
            "margin": null,
            "max_height": null,
            "max_width": null,
            "min_height": null,
            "min_width": null,
            "object_fit": null,
            "object_position": null,
            "order": null,
            "overflow": null,
            "overflow_x": null,
            "overflow_y": null,
            "padding": null,
            "right": null,
            "top": null,
            "visibility": null,
            "width": null
          }
        },
        "8820175c55a040e1964fe6974be4d9a4": {
          "model_module": "@jupyter-widgets/controls",
          "model_name": "ProgressStyleModel",
          "model_module_version": "1.5.0",
          "state": {
            "_model_module": "@jupyter-widgets/controls",
            "_model_module_version": "1.5.0",
            "_model_name": "ProgressStyleModel",
            "_view_count": null,
            "_view_module": "@jupyter-widgets/base",
            "_view_module_version": "1.2.0",
            "_view_name": "StyleView",
            "bar_color": null,
            "description_width": ""
          }
        },
        "3bbbf87b2d0547fea9664e7fbca73ce2": {
          "model_module": "@jupyter-widgets/base",
          "model_name": "LayoutModel",
          "model_module_version": "1.2.0",
          "state": {
            "_model_module": "@jupyter-widgets/base",
            "_model_module_version": "1.2.0",
            "_model_name": "LayoutModel",
            "_view_count": null,
            "_view_module": "@jupyter-widgets/base",
            "_view_module_version": "1.2.0",
            "_view_name": "LayoutView",
            "align_content": null,
            "align_items": null,
            "align_self": null,
            "border": null,
            "bottom": null,
            "display": null,
            "flex": null,
            "flex_flow": null,
            "grid_area": null,
            "grid_auto_columns": null,
            "grid_auto_flow": null,
            "grid_auto_rows": null,
            "grid_column": null,
            "grid_gap": null,
            "grid_row": null,
            "grid_template_areas": null,
            "grid_template_columns": null,
            "grid_template_rows": null,
            "height": null,
            "justify_content": null,
            "justify_items": null,
            "left": null,
            "margin": null,
            "max_height": null,
            "max_width": null,
            "min_height": null,
            "min_width": null,
            "object_fit": null,
            "object_position": null,
            "order": null,
            "overflow": null,
            "overflow_x": null,
            "overflow_y": null,
            "padding": null,
            "right": null,
            "top": null,
            "visibility": null,
            "width": null
          }
        },
        "53496c949f1d42a487db1cd168ee7afe": {
          "model_module": "@jupyter-widgets/controls",
          "model_name": "DescriptionStyleModel",
          "model_module_version": "1.5.0",
          "state": {
            "_model_module": "@jupyter-widgets/controls",
            "_model_module_version": "1.5.0",
            "_model_name": "DescriptionStyleModel",
            "_view_count": null,
            "_view_module": "@jupyter-widgets/base",
            "_view_module_version": "1.2.0",
            "_view_name": "StyleView",
            "description_width": ""
          }
        },
        "4954a23789254f6e9c3852ed642aecab": {
          "model_module": "@jupyter-widgets/controls",
          "model_name": "HBoxModel",
          "model_module_version": "1.5.0",
          "state": {
            "_dom_classes": [],
            "_model_module": "@jupyter-widgets/controls",
            "_model_module_version": "1.5.0",
            "_model_name": "HBoxModel",
            "_view_count": null,
            "_view_module": "@jupyter-widgets/controls",
            "_view_module_version": "1.5.0",
            "_view_name": "HBoxView",
            "box_style": "",
            "children": [
              "IPY_MODEL_cd2dac1d07014ea59e6de6d6b591c4ae",
              "IPY_MODEL_8ea29bed71de402d8bbcd1645f2ff83b",
              "IPY_MODEL_dcb3942b12d74c249aaeafe91fe79556"
            ],
            "layout": "IPY_MODEL_88c702e5439c40c098730118135f41be"
          }
        },
        "cd2dac1d07014ea59e6de6d6b591c4ae": {
          "model_module": "@jupyter-widgets/controls",
          "model_name": "HTMLModel",
          "model_module_version": "1.5.0",
          "state": {
            "_dom_classes": [],
            "_model_module": "@jupyter-widgets/controls",
            "_model_module_version": "1.5.0",
            "_model_name": "HTMLModel",
            "_view_count": null,
            "_view_module": "@jupyter-widgets/controls",
            "_view_module_version": "1.5.0",
            "_view_name": "HTMLView",
            "description": "",
            "description_tooltip": null,
            "layout": "IPY_MODEL_f6d26283cb324574a9701bb06deee7c1",
            "placeholder": "​",
            "style": "IPY_MODEL_342a5364ea8146c186899bcf291f2163",
            "value": "stage 2::  90%"
          }
        },
        "8ea29bed71de402d8bbcd1645f2ff83b": {
          "model_module": "@jupyter-widgets/controls",
          "model_name": "FloatProgressModel",
          "model_module_version": "1.5.0",
          "state": {
            "_dom_classes": [],
            "_model_module": "@jupyter-widgets/controls",
            "_model_module_version": "1.5.0",
            "_model_name": "FloatProgressModel",
            "_view_count": null,
            "_view_module": "@jupyter-widgets/controls",
            "_view_module_version": "1.5.0",
            "_view_name": "ProgressView",
            "bar_style": "danger",
            "description": "",
            "description_tooltip": null,
            "layout": "IPY_MODEL_c9e0594a2c404a48b7c9bd957c47c108",
            "max": 5113519,
            "min": 0,
            "orientation": "horizontal",
            "style": "IPY_MODEL_411772484b9342929770b8af7ff2b425",
            "value": 4624811
          }
        },
        "dcb3942b12d74c249aaeafe91fe79556": {
          "model_module": "@jupyter-widgets/controls",
          "model_name": "HTMLModel",
          "model_module_version": "1.5.0",
          "state": {
            "_dom_classes": [],
            "_model_module": "@jupyter-widgets/controls",
            "_model_module_version": "1.5.0",
            "_model_name": "HTMLModel",
            "_view_count": null,
            "_view_module": "@jupyter-widgets/controls",
            "_view_module_version": "1.5.0",
            "_view_name": "HTMLView",
            "description": "",
            "description_tooltip": null,
            "layout": "IPY_MODEL_6593db9b08cd46538e9036486cc8671a",
            "placeholder": "​",
            "style": "IPY_MODEL_6d09089cd64749ce9635b1acdf31d2c0",
            "value": " 4624811/5113519 [00:44&lt;00:02, 230384.55it/s]"
          }
        },
        "88c702e5439c40c098730118135f41be": {
          "model_module": "@jupyter-widgets/base",
          "model_name": "LayoutModel",
          "model_module_version": "1.2.0",
          "state": {
            "_model_module": "@jupyter-widgets/base",
            "_model_module_version": "1.2.0",
            "_model_name": "LayoutModel",
            "_view_count": null,
            "_view_module": "@jupyter-widgets/base",
            "_view_module_version": "1.2.0",
            "_view_name": "LayoutView",
            "align_content": null,
            "align_items": null,
            "align_self": null,
            "border": null,
            "bottom": null,
            "display": null,
            "flex": null,
            "flex_flow": null,
            "grid_area": null,
            "grid_auto_columns": null,
            "grid_auto_flow": null,
            "grid_auto_rows": null,
            "grid_column": null,
            "grid_gap": null,
            "grid_row": null,
            "grid_template_areas": null,
            "grid_template_columns": null,
            "grid_template_rows": null,
            "height": null,
            "justify_content": null,
            "justify_items": null,
            "left": null,
            "margin": null,
            "max_height": null,
            "max_width": null,
            "min_height": null,
            "min_width": null,
            "object_fit": null,
            "object_position": null,
            "order": null,
            "overflow": null,
            "overflow_x": null,
            "overflow_y": null,
            "padding": null,
            "right": null,
            "top": null,
            "visibility": null,
            "width": null
          }
        },
        "f6d26283cb324574a9701bb06deee7c1": {
          "model_module": "@jupyter-widgets/base",
          "model_name": "LayoutModel",
          "model_module_version": "1.2.0",
          "state": {
            "_model_module": "@jupyter-widgets/base",
            "_model_module_version": "1.2.0",
            "_model_name": "LayoutModel",
            "_view_count": null,
            "_view_module": "@jupyter-widgets/base",
            "_view_module_version": "1.2.0",
            "_view_name": "LayoutView",
            "align_content": null,
            "align_items": null,
            "align_self": null,
            "border": null,
            "bottom": null,
            "display": null,
            "flex": null,
            "flex_flow": null,
            "grid_area": null,
            "grid_auto_columns": null,
            "grid_auto_flow": null,
            "grid_auto_rows": null,
            "grid_column": null,
            "grid_gap": null,
            "grid_row": null,
            "grid_template_areas": null,
            "grid_template_columns": null,
            "grid_template_rows": null,
            "height": null,
            "justify_content": null,
            "justify_items": null,
            "left": null,
            "margin": null,
            "max_height": null,
            "max_width": null,
            "min_height": null,
            "min_width": null,
            "object_fit": null,
            "object_position": null,
            "order": null,
            "overflow": null,
            "overflow_x": null,
            "overflow_y": null,
            "padding": null,
            "right": null,
            "top": null,
            "visibility": null,
            "width": null
          }
        },
        "342a5364ea8146c186899bcf291f2163": {
          "model_module": "@jupyter-widgets/controls",
          "model_name": "DescriptionStyleModel",
          "model_module_version": "1.5.0",
          "state": {
            "_model_module": "@jupyter-widgets/controls",
            "_model_module_version": "1.5.0",
            "_model_name": "DescriptionStyleModel",
            "_view_count": null,
            "_view_module": "@jupyter-widgets/base",
            "_view_module_version": "1.2.0",
            "_view_name": "StyleView",
            "description_width": ""
          }
        },
        "c9e0594a2c404a48b7c9bd957c47c108": {
          "model_module": "@jupyter-widgets/base",
          "model_name": "LayoutModel",
          "model_module_version": "1.2.0",
          "state": {
            "_model_module": "@jupyter-widgets/base",
            "_model_module_version": "1.2.0",
            "_model_name": "LayoutModel",
            "_view_count": null,
            "_view_module": "@jupyter-widgets/base",
            "_view_module_version": "1.2.0",
            "_view_name": "LayoutView",
            "align_content": null,
            "align_items": null,
            "align_self": null,
            "border": null,
            "bottom": null,
            "display": null,
            "flex": null,
            "flex_flow": null,
            "grid_area": null,
            "grid_auto_columns": null,
            "grid_auto_flow": null,
            "grid_auto_rows": null,
            "grid_column": null,
            "grid_gap": null,
            "grid_row": null,
            "grid_template_areas": null,
            "grid_template_columns": null,
            "grid_template_rows": null,
            "height": null,
            "justify_content": null,
            "justify_items": null,
            "left": null,
            "margin": null,
            "max_height": null,
            "max_width": null,
            "min_height": null,
            "min_width": null,
            "object_fit": null,
            "object_position": null,
            "order": null,
            "overflow": null,
            "overflow_x": null,
            "overflow_y": null,
            "padding": null,
            "right": null,
            "top": null,
            "visibility": null,
            "width": null
          }
        },
        "411772484b9342929770b8af7ff2b425": {
          "model_module": "@jupyter-widgets/controls",
          "model_name": "ProgressStyleModel",
          "model_module_version": "1.5.0",
          "state": {
            "_model_module": "@jupyter-widgets/controls",
            "_model_module_version": "1.5.0",
            "_model_name": "ProgressStyleModel",
            "_view_count": null,
            "_view_module": "@jupyter-widgets/base",
            "_view_module_version": "1.2.0",
            "_view_name": "StyleView",
            "bar_color": null,
            "description_width": ""
          }
        },
        "6593db9b08cd46538e9036486cc8671a": {
          "model_module": "@jupyter-widgets/base",
          "model_name": "LayoutModel",
          "model_module_version": "1.2.0",
          "state": {
            "_model_module": "@jupyter-widgets/base",
            "_model_module_version": "1.2.0",
            "_model_name": "LayoutModel",
            "_view_count": null,
            "_view_module": "@jupyter-widgets/base",
            "_view_module_version": "1.2.0",
            "_view_name": "LayoutView",
            "align_content": null,
            "align_items": null,
            "align_self": null,
            "border": null,
            "bottom": null,
            "display": null,
            "flex": null,
            "flex_flow": null,
            "grid_area": null,
            "grid_auto_columns": null,
            "grid_auto_flow": null,
            "grid_auto_rows": null,
            "grid_column": null,
            "grid_gap": null,
            "grid_row": null,
            "grid_template_areas": null,
            "grid_template_columns": null,
            "grid_template_rows": null,
            "height": null,
            "justify_content": null,
            "justify_items": null,
            "left": null,
            "margin": null,
            "max_height": null,
            "max_width": null,
            "min_height": null,
            "min_width": null,
            "object_fit": null,
            "object_position": null,
            "order": null,
            "overflow": null,
            "overflow_x": null,
            "overflow_y": null,
            "padding": null,
            "right": null,
            "top": null,
            "visibility": null,
            "width": null
          }
        },
        "6d09089cd64749ce9635b1acdf31d2c0": {
          "model_module": "@jupyter-widgets/controls",
          "model_name": "DescriptionStyleModel",
          "model_module_version": "1.5.0",
          "state": {
            "_model_module": "@jupyter-widgets/controls",
            "_model_module_version": "1.5.0",
            "_model_name": "DescriptionStyleModel",
            "_view_count": null,
            "_view_module": "@jupyter-widgets/base",
            "_view_module_version": "1.2.0",
            "_view_name": "StyleView",
            "description_width": ""
          }
        },
        "8e89a40e73524f3c9e563989ceec5542": {
          "model_module": "@jupyter-widgets/controls",
          "model_name": "HBoxModel",
          "model_module_version": "1.5.0",
          "state": {
            "_dom_classes": [],
            "_model_module": "@jupyter-widgets/controls",
            "_model_module_version": "1.5.0",
            "_model_name": "HBoxModel",
            "_view_count": null,
            "_view_module": "@jupyter-widgets/controls",
            "_view_module_version": "1.5.0",
            "_view_name": "HBoxView",
            "box_style": "",
            "children": [
              "IPY_MODEL_398c425131494347b407e67455e34b8a",
              "IPY_MODEL_c8fc960dc96a470fae280873cc8aa110",
              "IPY_MODEL_44c424bab6e24b7199dec341164f00b8"
            ],
            "layout": "IPY_MODEL_246d7f4ff83946d8baac9b7246fbd9e5"
          }
        },
        "398c425131494347b407e67455e34b8a": {
          "model_module": "@jupyter-widgets/controls",
          "model_name": "HTMLModel",
          "model_module_version": "1.5.0",
          "state": {
            "_dom_classes": [],
            "_model_module": "@jupyter-widgets/controls",
            "_model_module_version": "1.5.0",
            "_model_name": "HTMLModel",
            "_view_count": null,
            "_view_module": "@jupyter-widgets/controls",
            "_view_module_version": "1.5.0",
            "_view_name": "HTMLView",
            "description": "",
            "description_tooltip": null,
            "layout": "IPY_MODEL_6f4ccb3ae1cb49f9a25332d44b750c24",
            "placeholder": "​",
            "style": "IPY_MODEL_7cb7956e48594fdbb08f6d5b5a439a3b",
            "value": ""
          }
        },
        "c8fc960dc96a470fae280873cc8aa110": {
          "model_module": "@jupyter-widgets/controls",
          "model_name": "FloatProgressModel",
          "model_module_version": "1.5.0",
          "state": {
            "_dom_classes": [],
            "_model_module": "@jupyter-widgets/controls",
            "_model_module_version": "1.5.0",
            "_model_name": "FloatProgressModel",
            "_view_count": null,
            "_view_module": "@jupyter-widgets/controls",
            "_view_module_version": "1.5.0",
            "_view_name": "ProgressView",
            "bar_style": "success",
            "description": "",
            "description_tooltip": null,
            "layout": "IPY_MODEL_c4195ed0eb12442e802ae8b56d864b74",
            "max": 1,
            "min": 0,
            "orientation": "horizontal",
            "style": "IPY_MODEL_7f59ff7e9f8f45e480847debed943030",
            "value": 1
          }
        },
        "44c424bab6e24b7199dec341164f00b8": {
          "model_module": "@jupyter-widgets/controls",
          "model_name": "HTMLModel",
          "model_module_version": "1.5.0",
          "state": {
            "_dom_classes": [],
            "_model_module": "@jupyter-widgets/controls",
            "_model_module_version": "1.5.0",
            "_model_name": "HTMLModel",
            "_view_count": null,
            "_view_module": "@jupyter-widgets/controls",
            "_view_module_version": "1.5.0",
            "_view_name": "HTMLView",
            "description": "",
            "description_tooltip": null,
            "layout": "IPY_MODEL_3e65bcfed99b4d11a629b1f3110f6ed5",
            "placeholder": "​",
            "style": "IPY_MODEL_821f211256f047f0be73c5f8a74495c1",
            "value": " 10/? [00:03&lt;00:00,  2.87it/s]"
          }
        },
        "246d7f4ff83946d8baac9b7246fbd9e5": {
          "model_module": "@jupyter-widgets/base",
          "model_name": "LayoutModel",
          "model_module_version": "1.2.0",
          "state": {
            "_model_module": "@jupyter-widgets/base",
            "_model_module_version": "1.2.0",
            "_model_name": "LayoutModel",
            "_view_count": null,
            "_view_module": "@jupyter-widgets/base",
            "_view_module_version": "1.2.0",
            "_view_name": "LayoutView",
            "align_content": null,
            "align_items": null,
            "align_self": null,
            "border": null,
            "bottom": null,
            "display": null,
            "flex": null,
            "flex_flow": null,
            "grid_area": null,
            "grid_auto_columns": null,
            "grid_auto_flow": null,
            "grid_auto_rows": null,
            "grid_column": null,
            "grid_gap": null,
            "grid_row": null,
            "grid_template_areas": null,
            "grid_template_columns": null,
            "grid_template_rows": null,
            "height": null,
            "justify_content": null,
            "justify_items": null,
            "left": null,
            "margin": null,
            "max_height": null,
            "max_width": null,
            "min_height": null,
            "min_width": null,
            "object_fit": null,
            "object_position": null,
            "order": null,
            "overflow": null,
            "overflow_x": null,
            "overflow_y": null,
            "padding": null,
            "right": null,
            "top": null,
            "visibility": null,
            "width": null
          }
        },
        "6f4ccb3ae1cb49f9a25332d44b750c24": {
          "model_module": "@jupyter-widgets/base",
          "model_name": "LayoutModel",
          "model_module_version": "1.2.0",
          "state": {
            "_model_module": "@jupyter-widgets/base",
            "_model_module_version": "1.2.0",
            "_model_name": "LayoutModel",
            "_view_count": null,
            "_view_module": "@jupyter-widgets/base",
            "_view_module_version": "1.2.0",
            "_view_name": "LayoutView",
            "align_content": null,
            "align_items": null,
            "align_self": null,
            "border": null,
            "bottom": null,
            "display": null,
            "flex": null,
            "flex_flow": null,
            "grid_area": null,
            "grid_auto_columns": null,
            "grid_auto_flow": null,
            "grid_auto_rows": null,
            "grid_column": null,
            "grid_gap": null,
            "grid_row": null,
            "grid_template_areas": null,
            "grid_template_columns": null,
            "grid_template_rows": null,
            "height": null,
            "justify_content": null,
            "justify_items": null,
            "left": null,
            "margin": null,
            "max_height": null,
            "max_width": null,
            "min_height": null,
            "min_width": null,
            "object_fit": null,
            "object_position": null,
            "order": null,
            "overflow": null,
            "overflow_x": null,
            "overflow_y": null,
            "padding": null,
            "right": null,
            "top": null,
            "visibility": null,
            "width": null
          }
        },
        "7cb7956e48594fdbb08f6d5b5a439a3b": {
          "model_module": "@jupyter-widgets/controls",
          "model_name": "DescriptionStyleModel",
          "model_module_version": "1.5.0",
          "state": {
            "_model_module": "@jupyter-widgets/controls",
            "_model_module_version": "1.5.0",
            "_model_name": "DescriptionStyleModel",
            "_view_count": null,
            "_view_module": "@jupyter-widgets/base",
            "_view_module_version": "1.2.0",
            "_view_name": "StyleView",
            "description_width": ""
          }
        },
        "c4195ed0eb12442e802ae8b56d864b74": {
          "model_module": "@jupyter-widgets/base",
          "model_name": "LayoutModel",
          "model_module_version": "1.2.0",
          "state": {
            "_model_module": "@jupyter-widgets/base",
            "_model_module_version": "1.2.0",
            "_model_name": "LayoutModel",
            "_view_count": null,
            "_view_module": "@jupyter-widgets/base",
            "_view_module_version": "1.2.0",
            "_view_name": "LayoutView",
            "align_content": null,
            "align_items": null,
            "align_self": null,
            "border": null,
            "bottom": null,
            "display": null,
            "flex": null,
            "flex_flow": null,
            "grid_area": null,
            "grid_auto_columns": null,
            "grid_auto_flow": null,
            "grid_auto_rows": null,
            "grid_column": null,
            "grid_gap": null,
            "grid_row": null,
            "grid_template_areas": null,
            "grid_template_columns": null,
            "grid_template_rows": null,
            "height": null,
            "justify_content": null,
            "justify_items": null,
            "left": null,
            "margin": null,
            "max_height": null,
            "max_width": null,
            "min_height": null,
            "min_width": null,
            "object_fit": null,
            "object_position": null,
            "order": null,
            "overflow": null,
            "overflow_x": null,
            "overflow_y": null,
            "padding": null,
            "right": null,
            "top": null,
            "visibility": null,
            "width": "20px"
          }
        },
        "7f59ff7e9f8f45e480847debed943030": {
          "model_module": "@jupyter-widgets/controls",
          "model_name": "ProgressStyleModel",
          "model_module_version": "1.5.0",
          "state": {
            "_model_module": "@jupyter-widgets/controls",
            "_model_module_version": "1.5.0",
            "_model_name": "ProgressStyleModel",
            "_view_count": null,
            "_view_module": "@jupyter-widgets/base",
            "_view_module_version": "1.2.0",
            "_view_name": "StyleView",
            "bar_color": null,
            "description_width": ""
          }
        },
        "3e65bcfed99b4d11a629b1f3110f6ed5": {
          "model_module": "@jupyter-widgets/base",
          "model_name": "LayoutModel",
          "model_module_version": "1.2.0",
          "state": {
            "_model_module": "@jupyter-widgets/base",
            "_model_module_version": "1.2.0",
            "_model_name": "LayoutModel",
            "_view_count": null,
            "_view_module": "@jupyter-widgets/base",
            "_view_module_version": "1.2.0",
            "_view_name": "LayoutView",
            "align_content": null,
            "align_items": null,
            "align_self": null,
            "border": null,
            "bottom": null,
            "display": null,
            "flex": null,
            "flex_flow": null,
            "grid_area": null,
            "grid_auto_columns": null,
            "grid_auto_flow": null,
            "grid_auto_rows": null,
            "grid_column": null,
            "grid_gap": null,
            "grid_row": null,
            "grid_template_areas": null,
            "grid_template_columns": null,
            "grid_template_rows": null,
            "height": null,
            "justify_content": null,
            "justify_items": null,
            "left": null,
            "margin": null,
            "max_height": null,
            "max_width": null,
            "min_height": null,
            "min_width": null,
            "object_fit": null,
            "object_position": null,
            "order": null,
            "overflow": null,
            "overflow_x": null,
            "overflow_y": null,
            "padding": null,
            "right": null,
            "top": null,
            "visibility": null,
            "width": null
          }
        },
        "821f211256f047f0be73c5f8a74495c1": {
          "model_module": "@jupyter-widgets/controls",
          "model_name": "DescriptionStyleModel",
          "model_module_version": "1.5.0",
          "state": {
            "_model_module": "@jupyter-widgets/controls",
            "_model_module_version": "1.5.0",
            "_model_name": "DescriptionStyleModel",
            "_view_count": null,
            "_view_module": "@jupyter-widgets/base",
            "_view_module_version": "1.2.0",
            "_view_name": "StyleView",
            "description_width": ""
          }
        },
        "6db2354b1d1548309c73b142f1843287": {
          "model_module": "@jupyter-widgets/controls",
          "model_name": "HBoxModel",
          "model_module_version": "1.5.0",
          "state": {
            "_dom_classes": [],
            "_model_module": "@jupyter-widgets/controls",
            "_model_module_version": "1.5.0",
            "_model_name": "HBoxModel",
            "_view_count": null,
            "_view_module": "@jupyter-widgets/controls",
            "_view_module_version": "1.5.0",
            "_view_name": "HBoxView",
            "box_style": "",
            "children": [
              "IPY_MODEL_64f86d821e9546189941ef9876ec3bd4",
              "IPY_MODEL_db93532325e141c0bed910852145e695",
              "IPY_MODEL_f480fa90fcef4d0c95acaa60f8d7eba2"
            ],
            "layout": "IPY_MODEL_4ba755f7df224f279f866c0b4a8346c6"
          }
        },
        "64f86d821e9546189941ef9876ec3bd4": {
          "model_module": "@jupyter-widgets/controls",
          "model_name": "HTMLModel",
          "model_module_version": "1.5.0",
          "state": {
            "_dom_classes": [],
            "_model_module": "@jupyter-widgets/controls",
            "_model_module_version": "1.5.0",
            "_model_name": "HTMLModel",
            "_view_count": null,
            "_view_module": "@jupyter-widgets/controls",
            "_view_module_version": "1.5.0",
            "_view_name": "HTMLView",
            "description": "",
            "description_tooltip": null,
            "layout": "IPY_MODEL_a53626aafefc4344981e99fc31009cbf",
            "placeholder": "​",
            "style": "IPY_MODEL_b6788fdf6d8040ac80738e6c22024858",
            "value": "100%"
          }
        },
        "db93532325e141c0bed910852145e695": {
          "model_module": "@jupyter-widgets/controls",
          "model_name": "FloatProgressModel",
          "model_module_version": "1.5.0",
          "state": {
            "_dom_classes": [],
            "_model_module": "@jupyter-widgets/controls",
            "_model_module_version": "1.5.0",
            "_model_name": "FloatProgressModel",
            "_view_count": null,
            "_view_module": "@jupyter-widgets/controls",
            "_view_module_version": "1.5.0",
            "_view_name": "ProgressView",
            "bar_style": "success",
            "description": "",
            "description_tooltip": null,
            "layout": "IPY_MODEL_4b3c0378000346ccaa291325b7f71b02",
            "max": 10,
            "min": 0,
            "orientation": "horizontal",
            "style": "IPY_MODEL_90f551c01fc6465382bf242d3ca22731",
            "value": 10
          }
        },
        "f480fa90fcef4d0c95acaa60f8d7eba2": {
          "model_module": "@jupyter-widgets/controls",
          "model_name": "HTMLModel",
          "model_module_version": "1.5.0",
          "state": {
            "_dom_classes": [],
            "_model_module": "@jupyter-widgets/controls",
            "_model_module_version": "1.5.0",
            "_model_name": "HTMLModel",
            "_view_count": null,
            "_view_module": "@jupyter-widgets/controls",
            "_view_module_version": "1.5.0",
            "_view_name": "HTMLView",
            "description": "",
            "description_tooltip": null,
            "layout": "IPY_MODEL_3e04876dbbd648bbaa45e9546cafe873",
            "placeholder": "​",
            "style": "IPY_MODEL_06c1133a802d40f6bbebe710b6140745",
            "value": " 10/10 [00:00&lt;00:00, 10.85it/s]"
          }
        },
        "4ba755f7df224f279f866c0b4a8346c6": {
          "model_module": "@jupyter-widgets/base",
          "model_name": "LayoutModel",
          "model_module_version": "1.2.0",
          "state": {
            "_model_module": "@jupyter-widgets/base",
            "_model_module_version": "1.2.0",
            "_model_name": "LayoutModel",
            "_view_count": null,
            "_view_module": "@jupyter-widgets/base",
            "_view_module_version": "1.2.0",
            "_view_name": "LayoutView",
            "align_content": null,
            "align_items": null,
            "align_self": null,
            "border": null,
            "bottom": null,
            "display": null,
            "flex": null,
            "flex_flow": null,
            "grid_area": null,
            "grid_auto_columns": null,
            "grid_auto_flow": null,
            "grid_auto_rows": null,
            "grid_column": null,
            "grid_gap": null,
            "grid_row": null,
            "grid_template_areas": null,
            "grid_template_columns": null,
            "grid_template_rows": null,
            "height": null,
            "justify_content": null,
            "justify_items": null,
            "left": null,
            "margin": null,
            "max_height": null,
            "max_width": null,
            "min_height": null,
            "min_width": null,
            "object_fit": null,
            "object_position": null,
            "order": null,
            "overflow": null,
            "overflow_x": null,
            "overflow_y": null,
            "padding": null,
            "right": null,
            "top": null,
            "visibility": null,
            "width": null
          }
        },
        "a53626aafefc4344981e99fc31009cbf": {
          "model_module": "@jupyter-widgets/base",
          "model_name": "LayoutModel",
          "model_module_version": "1.2.0",
          "state": {
            "_model_module": "@jupyter-widgets/base",
            "_model_module_version": "1.2.0",
            "_model_name": "LayoutModel",
            "_view_count": null,
            "_view_module": "@jupyter-widgets/base",
            "_view_module_version": "1.2.0",
            "_view_name": "LayoutView",
            "align_content": null,
            "align_items": null,
            "align_self": null,
            "border": null,
            "bottom": null,
            "display": null,
            "flex": null,
            "flex_flow": null,
            "grid_area": null,
            "grid_auto_columns": null,
            "grid_auto_flow": null,
            "grid_auto_rows": null,
            "grid_column": null,
            "grid_gap": null,
            "grid_row": null,
            "grid_template_areas": null,
            "grid_template_columns": null,
            "grid_template_rows": null,
            "height": null,
            "justify_content": null,
            "justify_items": null,
            "left": null,
            "margin": null,
            "max_height": null,
            "max_width": null,
            "min_height": null,
            "min_width": null,
            "object_fit": null,
            "object_position": null,
            "order": null,
            "overflow": null,
            "overflow_x": null,
            "overflow_y": null,
            "padding": null,
            "right": null,
            "top": null,
            "visibility": null,
            "width": null
          }
        },
        "b6788fdf6d8040ac80738e6c22024858": {
          "model_module": "@jupyter-widgets/controls",
          "model_name": "DescriptionStyleModel",
          "model_module_version": "1.5.0",
          "state": {
            "_model_module": "@jupyter-widgets/controls",
            "_model_module_version": "1.5.0",
            "_model_name": "DescriptionStyleModel",
            "_view_count": null,
            "_view_module": "@jupyter-widgets/base",
            "_view_module_version": "1.2.0",
            "_view_name": "StyleView",
            "description_width": ""
          }
        },
        "4b3c0378000346ccaa291325b7f71b02": {
          "model_module": "@jupyter-widgets/base",
          "model_name": "LayoutModel",
          "model_module_version": "1.2.0",
          "state": {
            "_model_module": "@jupyter-widgets/base",
            "_model_module_version": "1.2.0",
            "_model_name": "LayoutModel",
            "_view_count": null,
            "_view_module": "@jupyter-widgets/base",
            "_view_module_version": "1.2.0",
            "_view_name": "LayoutView",
            "align_content": null,
            "align_items": null,
            "align_self": null,
            "border": null,
            "bottom": null,
            "display": null,
            "flex": null,
            "flex_flow": null,
            "grid_area": null,
            "grid_auto_columns": null,
            "grid_auto_flow": null,
            "grid_auto_rows": null,
            "grid_column": null,
            "grid_gap": null,
            "grid_row": null,
            "grid_template_areas": null,
            "grid_template_columns": null,
            "grid_template_rows": null,
            "height": null,
            "justify_content": null,
            "justify_items": null,
            "left": null,
            "margin": null,
            "max_height": null,
            "max_width": null,
            "min_height": null,
            "min_width": null,
            "object_fit": null,
            "object_position": null,
            "order": null,
            "overflow": null,
            "overflow_x": null,
            "overflow_y": null,
            "padding": null,
            "right": null,
            "top": null,
            "visibility": null,
            "width": null
          }
        },
        "90f551c01fc6465382bf242d3ca22731": {
          "model_module": "@jupyter-widgets/controls",
          "model_name": "ProgressStyleModel",
          "model_module_version": "1.5.0",
          "state": {
            "_model_module": "@jupyter-widgets/controls",
            "_model_module_version": "1.5.0",
            "_model_name": "ProgressStyleModel",
            "_view_count": null,
            "_view_module": "@jupyter-widgets/base",
            "_view_module_version": "1.2.0",
            "_view_name": "StyleView",
            "bar_color": null,
            "description_width": ""
          }
        },
        "3e04876dbbd648bbaa45e9546cafe873": {
          "model_module": "@jupyter-widgets/base",
          "model_name": "LayoutModel",
          "model_module_version": "1.2.0",
          "state": {
            "_model_module": "@jupyter-widgets/base",
            "_model_module_version": "1.2.0",
            "_model_name": "LayoutModel",
            "_view_count": null,
            "_view_module": "@jupyter-widgets/base",
            "_view_module_version": "1.2.0",
            "_view_name": "LayoutView",
            "align_content": null,
            "align_items": null,
            "align_self": null,
            "border": null,
            "bottom": null,
            "display": null,
            "flex": null,
            "flex_flow": null,
            "grid_area": null,
            "grid_auto_columns": null,
            "grid_auto_flow": null,
            "grid_auto_rows": null,
            "grid_column": null,
            "grid_gap": null,
            "grid_row": null,
            "grid_template_areas": null,
            "grid_template_columns": null,
            "grid_template_rows": null,
            "height": null,
            "justify_content": null,
            "justify_items": null,
            "left": null,
            "margin": null,
            "max_height": null,
            "max_width": null,
            "min_height": null,
            "min_width": null,
            "object_fit": null,
            "object_position": null,
            "order": null,
            "overflow": null,
            "overflow_x": null,
            "overflow_y": null,
            "padding": null,
            "right": null,
            "top": null,
            "visibility": null,
            "width": null
          }
        },
        "06c1133a802d40f6bbebe710b6140745": {
          "model_module": "@jupyter-widgets/controls",
          "model_name": "DescriptionStyleModel",
          "model_module_version": "1.5.0",
          "state": {
            "_model_module": "@jupyter-widgets/controls",
            "_model_module_version": "1.5.0",
            "_model_name": "DescriptionStyleModel",
            "_view_count": null,
            "_view_module": "@jupyter-widgets/base",
            "_view_module_version": "1.2.0",
            "_view_name": "StyleView",
            "description_width": ""
          }
        },
        "7cc5fa899bf84b10a617825fbec97dd3": {
          "model_module": "@jupyter-widgets/controls",
          "model_name": "HBoxModel",
          "model_module_version": "1.5.0",
          "state": {
            "_dom_classes": [],
            "_model_module": "@jupyter-widgets/controls",
            "_model_module_version": "1.5.0",
            "_model_name": "HBoxModel",
            "_view_count": null,
            "_view_module": "@jupyter-widgets/controls",
            "_view_module_version": "1.5.0",
            "_view_name": "HBoxView",
            "box_style": "",
            "children": [
              "IPY_MODEL_bfa1f109b0934dd18a314ad949e6ca30",
              "IPY_MODEL_638bd58547054554aa8bbf1222ce70c3",
              "IPY_MODEL_3b6c3b2bb1634bea8ee02fbb49ad7ac4"
            ],
            "layout": "IPY_MODEL_e67bdf7a64a248218f8f4c5383815286"
          }
        },
        "bfa1f109b0934dd18a314ad949e6ca30": {
          "model_module": "@jupyter-widgets/controls",
          "model_name": "HTMLModel",
          "model_module_version": "1.5.0",
          "state": {
            "_dom_classes": [],
            "_model_module": "@jupyter-widgets/controls",
            "_model_module_version": "1.5.0",
            "_model_name": "HTMLModel",
            "_view_count": null,
            "_view_module": "@jupyter-widgets/controls",
            "_view_module_version": "1.5.0",
            "_view_name": "HTMLView",
            "description": "",
            "description_tooltip": null,
            "layout": "IPY_MODEL_ebb17266c69b4736b49506265e120dad",
            "placeholder": "​",
            "style": "IPY_MODEL_4fefbb41bf784eeab523302abb0d79e5",
            "value": "100%"
          }
        },
        "638bd58547054554aa8bbf1222ce70c3": {
          "model_module": "@jupyter-widgets/controls",
          "model_name": "FloatProgressModel",
          "model_module_version": "1.5.0",
          "state": {
            "_dom_classes": [],
            "_model_module": "@jupyter-widgets/controls",
            "_model_module_version": "1.5.0",
            "_model_name": "FloatProgressModel",
            "_view_count": null,
            "_view_module": "@jupyter-widgets/controls",
            "_view_module_version": "1.5.0",
            "_view_name": "ProgressView",
            "bar_style": "success",
            "description": "",
            "description_tooltip": null,
            "layout": "IPY_MODEL_9bcfd6c40bcc464baa1892981b5be550",
            "max": 10,
            "min": 0,
            "orientation": "horizontal",
            "style": "IPY_MODEL_b6499a9e8f2446258b80f107a15344f8",
            "value": 10
          }
        },
        "3b6c3b2bb1634bea8ee02fbb49ad7ac4": {
          "model_module": "@jupyter-widgets/controls",
          "model_name": "HTMLModel",
          "model_module_version": "1.5.0",
          "state": {
            "_dom_classes": [],
            "_model_module": "@jupyter-widgets/controls",
            "_model_module_version": "1.5.0",
            "_model_name": "HTMLModel",
            "_view_count": null,
            "_view_module": "@jupyter-widgets/controls",
            "_view_module_version": "1.5.0",
            "_view_name": "HTMLView",
            "description": "",
            "description_tooltip": null,
            "layout": "IPY_MODEL_7f057d52b21841e6a9d9bcd475f9a21c",
            "placeholder": "​",
            "style": "IPY_MODEL_cff6089d7f7a47e6a27b495454a305e3",
            "value": " 10/10 [00:00&lt;00:00, 13.09it/s]"
          }
        },
        "e67bdf7a64a248218f8f4c5383815286": {
          "model_module": "@jupyter-widgets/base",
          "model_name": "LayoutModel",
          "model_module_version": "1.2.0",
          "state": {
            "_model_module": "@jupyter-widgets/base",
            "_model_module_version": "1.2.0",
            "_model_name": "LayoutModel",
            "_view_count": null,
            "_view_module": "@jupyter-widgets/base",
            "_view_module_version": "1.2.0",
            "_view_name": "LayoutView",
            "align_content": null,
            "align_items": null,
            "align_self": null,
            "border": null,
            "bottom": null,
            "display": null,
            "flex": null,
            "flex_flow": null,
            "grid_area": null,
            "grid_auto_columns": null,
            "grid_auto_flow": null,
            "grid_auto_rows": null,
            "grid_column": null,
            "grid_gap": null,
            "grid_row": null,
            "grid_template_areas": null,
            "grid_template_columns": null,
            "grid_template_rows": null,
            "height": null,
            "justify_content": null,
            "justify_items": null,
            "left": null,
            "margin": null,
            "max_height": null,
            "max_width": null,
            "min_height": null,
            "min_width": null,
            "object_fit": null,
            "object_position": null,
            "order": null,
            "overflow": null,
            "overflow_x": null,
            "overflow_y": null,
            "padding": null,
            "right": null,
            "top": null,
            "visibility": null,
            "width": null
          }
        },
        "ebb17266c69b4736b49506265e120dad": {
          "model_module": "@jupyter-widgets/base",
          "model_name": "LayoutModel",
          "model_module_version": "1.2.0",
          "state": {
            "_model_module": "@jupyter-widgets/base",
            "_model_module_version": "1.2.0",
            "_model_name": "LayoutModel",
            "_view_count": null,
            "_view_module": "@jupyter-widgets/base",
            "_view_module_version": "1.2.0",
            "_view_name": "LayoutView",
            "align_content": null,
            "align_items": null,
            "align_self": null,
            "border": null,
            "bottom": null,
            "display": null,
            "flex": null,
            "flex_flow": null,
            "grid_area": null,
            "grid_auto_columns": null,
            "grid_auto_flow": null,
            "grid_auto_rows": null,
            "grid_column": null,
            "grid_gap": null,
            "grid_row": null,
            "grid_template_areas": null,
            "grid_template_columns": null,
            "grid_template_rows": null,
            "height": null,
            "justify_content": null,
            "justify_items": null,
            "left": null,
            "margin": null,
            "max_height": null,
            "max_width": null,
            "min_height": null,
            "min_width": null,
            "object_fit": null,
            "object_position": null,
            "order": null,
            "overflow": null,
            "overflow_x": null,
            "overflow_y": null,
            "padding": null,
            "right": null,
            "top": null,
            "visibility": null,
            "width": null
          }
        },
        "4fefbb41bf784eeab523302abb0d79e5": {
          "model_module": "@jupyter-widgets/controls",
          "model_name": "DescriptionStyleModel",
          "model_module_version": "1.5.0",
          "state": {
            "_model_module": "@jupyter-widgets/controls",
            "_model_module_version": "1.5.0",
            "_model_name": "DescriptionStyleModel",
            "_view_count": null,
            "_view_module": "@jupyter-widgets/base",
            "_view_module_version": "1.2.0",
            "_view_name": "StyleView",
            "description_width": ""
          }
        },
        "9bcfd6c40bcc464baa1892981b5be550": {
          "model_module": "@jupyter-widgets/base",
          "model_name": "LayoutModel",
          "model_module_version": "1.2.0",
          "state": {
            "_model_module": "@jupyter-widgets/base",
            "_model_module_version": "1.2.0",
            "_model_name": "LayoutModel",
            "_view_count": null,
            "_view_module": "@jupyter-widgets/base",
            "_view_module_version": "1.2.0",
            "_view_name": "LayoutView",
            "align_content": null,
            "align_items": null,
            "align_self": null,
            "border": null,
            "bottom": null,
            "display": null,
            "flex": null,
            "flex_flow": null,
            "grid_area": null,
            "grid_auto_columns": null,
            "grid_auto_flow": null,
            "grid_auto_rows": null,
            "grid_column": null,
            "grid_gap": null,
            "grid_row": null,
            "grid_template_areas": null,
            "grid_template_columns": null,
            "grid_template_rows": null,
            "height": null,
            "justify_content": null,
            "justify_items": null,
            "left": null,
            "margin": null,
            "max_height": null,
            "max_width": null,
            "min_height": null,
            "min_width": null,
            "object_fit": null,
            "object_position": null,
            "order": null,
            "overflow": null,
            "overflow_x": null,
            "overflow_y": null,
            "padding": null,
            "right": null,
            "top": null,
            "visibility": null,
            "width": null
          }
        },
        "b6499a9e8f2446258b80f107a15344f8": {
          "model_module": "@jupyter-widgets/controls",
          "model_name": "ProgressStyleModel",
          "model_module_version": "1.5.0",
          "state": {
            "_model_module": "@jupyter-widgets/controls",
            "_model_module_version": "1.5.0",
            "_model_name": "ProgressStyleModel",
            "_view_count": null,
            "_view_module": "@jupyter-widgets/base",
            "_view_module_version": "1.2.0",
            "_view_name": "StyleView",
            "bar_color": null,
            "description_width": ""
          }
        },
        "7f057d52b21841e6a9d9bcd475f9a21c": {
          "model_module": "@jupyter-widgets/base",
          "model_name": "LayoutModel",
          "model_module_version": "1.2.0",
          "state": {
            "_model_module": "@jupyter-widgets/base",
            "_model_module_version": "1.2.0",
            "_model_name": "LayoutModel",
            "_view_count": null,
            "_view_module": "@jupyter-widgets/base",
            "_view_module_version": "1.2.0",
            "_view_name": "LayoutView",
            "align_content": null,
            "align_items": null,
            "align_self": null,
            "border": null,
            "bottom": null,
            "display": null,
            "flex": null,
            "flex_flow": null,
            "grid_area": null,
            "grid_auto_columns": null,
            "grid_auto_flow": null,
            "grid_auto_rows": null,
            "grid_column": null,
            "grid_gap": null,
            "grid_row": null,
            "grid_template_areas": null,
            "grid_template_columns": null,
            "grid_template_rows": null,
            "height": null,
            "justify_content": null,
            "justify_items": null,
            "left": null,
            "margin": null,
            "max_height": null,
            "max_width": null,
            "min_height": null,
            "min_width": null,
            "object_fit": null,
            "object_position": null,
            "order": null,
            "overflow": null,
            "overflow_x": null,
            "overflow_y": null,
            "padding": null,
            "right": null,
            "top": null,
            "visibility": null,
            "width": null
          }
        },
        "cff6089d7f7a47e6a27b495454a305e3": {
          "model_module": "@jupyter-widgets/controls",
          "model_name": "DescriptionStyleModel",
          "model_module_version": "1.5.0",
          "state": {
            "_model_module": "@jupyter-widgets/controls",
            "_model_module_version": "1.5.0",
            "_model_name": "DescriptionStyleModel",
            "_view_count": null,
            "_view_module": "@jupyter-widgets/base",
            "_view_module_version": "1.2.0",
            "_view_name": "StyleView",
            "description_width": ""
          }
        }
      }
    }
  },
  "nbformat": 4,
  "nbformat_minor": 0
}